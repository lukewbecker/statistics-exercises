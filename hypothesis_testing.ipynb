{
 "cells": [
  {
   "cell_type": "code",
   "execution_count": 1,
   "metadata": {},
   "outputs": [],
   "source": [
    "# Exercises for Hypothesis Overview homework"
   ]
  },
  {
   "cell_type": "code",
   "execution_count": 13,
   "metadata": {},
   "outputs": [],
   "source": [
    "import numpy as np\n",
    "import matplotlib.pyplot as plt"
   ]
  },
  {
   "cell_type": "markdown",
   "metadata": {},
   "source": [
    "For each of the following questions, formulate a null and alternative hypothesis (be as specific as you can be), then give an example of what a true positive, true negative, type I and type II errors would look like. Note that some of the questions are intentionally phrased in a vague way. It is your job to reword these as more precise questions that could be tested.\n",
    "\n",
    "- Has the network latency gone up since we switched internet service providers?\n",
    "- Is the website redesign any good?\n",
    "- Is our television ad driving more sales?"
   ]
  },
  {
   "cell_type": "code",
   "execution_count": 27,
   "metadata": {},
   "outputs": [
    {
     "name": "stdout",
     "output_type": "stream",
     "text": [
      "Null Hypothesis: Network latency has not changed since the switch.\n",
      "Alt Hypothesis: Network latency has gone up since the switch.\n"
     ]
    }
   ],
   "source": [
    "# Formulate the null hypothesis:\n",
    "\n",
    "null_notation = \"0\"\n",
    "\n",
    "null_hypothesis = f\"Null Hypothesis: Network latency has not changed since the switch.\"\n",
    "\n",
    "alt_hypothesis = \"Alt Hypothesis: Network latency has gone up since the switch.\"\n",
    "\n",
    "print(null_hypothesis)\n",
    "print(alt_hypothesis)"
   ]
  },
  {
   "cell_type": "code",
   "execution_count": 100,
   "metadata": {},
   "outputs": [
    {
     "name": "stdout",
     "output_type": "stream",
     "text": [
      "Null Hypothesis $H_{{{0}}}$: Website visits have increased by at least 2% since website redesign\n",
      "Alt Hypothesis: Website visits haven't changed since website redesign\n"
     ]
    }
   ],
   "source": [
    "# Hypotheses regarding the website design.\n",
    "\n",
    "print(\"Null Hypothesis $H_{{{0}}}$: Website visits have increased by at least 2% since website redesign\")\n",
    "print(\"Alt Hypothesis: Website visits haven't changed since website redesign\")"
   ]
  },
  {
   "cell_type": "code",
   "execution_count": 29,
   "metadata": {},
   "outputs": [
    {
     "name": "stdout",
     "output_type": "stream",
     "text": [
      "Null Hypothesis: We had higher average daily sales after the TV ad ran.\n",
      "Alt Hypothesis: There was no change in average daily sales after the TV ad ran.\n"
     ]
    }
   ],
   "source": [
    "# Is our television ad driving more sales?\n",
    "\n",
    "print(\"Null Hypothesis: We had higher average daily sales after the TV ad ran.\")\n",
    "print(\"Alt Hypothesis: There was no change in average daily sales after the TV ad ran.\")"
   ]
  },
  {
   "cell_type": "code",
   "execution_count": 1,
   "metadata": {},
   "outputs": [],
   "source": [
    "import math\n",
    "\n",
    "import numpy as np\n",
    "import pandas as pd\n",
    "import matplotlib.pyplot as plt\n",
    "from scipy import stats"
   ]
  },
  {
   "cell_type": "code",
   "execution_count": 2,
   "metadata": {},
   "outputs": [],
   "source": [
    "plt.rc('figure', figsize=(16, 9))\n",
    "plt.rc('axes.spines', top=False, right=False)\n",
    "plt.rc('patch', ec='black', force_edgecolor=True)\n",
    "plt.rc('font', size=13)\n",
    "\n",
    "np.random.seed(13)"
   ]
  },
  {
   "cell_type": "code",
   "execution_count": 3,
   "metadata": {},
   "outputs": [],
   "source": [
    "win = 250\n",
    "lose = 750"
   ]
  },
  {
   "cell_type": "code",
   "execution_count": 25,
   "metadata": {},
   "outputs": [],
   "source": [
    "tickets = pd.Series([True] * 250 + [False] * 750)"
   ]
  },
  {
   "cell_type": "code",
   "execution_count": 26,
   "metadata": {},
   "outputs": [
    {
     "data": {
      "text/plain": [
       "0       True\n",
       "1       True\n",
       "2       True\n",
       "3       True\n",
       "4       True\n",
       "       ...  \n",
       "995    False\n",
       "996    False\n",
       "997    False\n",
       "998    False\n",
       "999    False\n",
       "Length: 1000, dtype: bool"
      ]
     },
     "execution_count": 26,
     "metadata": {},
     "output_type": "execute_result"
    }
   ],
   "source": [
    "tickets"
   ]
  },
  {
   "cell_type": "code",
   "execution_count": 27,
   "metadata": {},
   "outputs": [
    {
     "name": "stdout",
     "output_type": "stream",
     "text": [
      "The percentage of winning tickets in this sample is 12.00%\n"
     ]
    }
   ],
   "source": [
    "n = 25\n",
    "sample_result = tickets.sample(n).mean()\n",
    "print(f'The percentage of winning tickets in this sample is {sample_result:.2%}')"
   ]
  },
  {
   "cell_type": "code",
   "execution_count": 28,
   "metadata": {},
   "outputs": [
    {
     "data": {
      "text/plain": [
       "[0.36, 0.24, 0.4, 0.2]"
      ]
     },
     "execution_count": 28,
     "metadata": {},
     "output_type": "execute_result"
    }
   ],
   "source": [
    "# The example code said 4 cohorts, but had a range of 5 numbers. I'm assuming they wanted to illustrate 5 \"tests\", but that was confusing since there are only 4 cohorts...\n",
    "\n",
    "[tickets.sample(n).mean() for i in range(4)]"
   ]
  },
  {
   "cell_type": "code",
   "execution_count": 31,
   "metadata": {},
   "outputs": [
    {
     "data": {
      "image/png": "[encoded data removed]",
      "text/plain": [
       "<Figure size 1152x648 with 1 Axes>"
      ]
     },
     "metadata": {
      "needs_background": "light"
     },
     "output_type": "display_data"
    }
   ],
   "source": [
    "calculated_winrates = pd.Series([tickets.sample(n).mean() for i in range(10_000)])\n",
    "calculated_winrates.plot.hist(bins = 15)\n",
    "plt.show()"
   ]
  },
  {
   "cell_type": "code",
   "execution_count": 34,
   "metadata": {},
   "outputs": [],
   "source": [
    "\n",
    "rolls = pd.DataFrame()\n",
    "rolls['die1'] = np.random.choice([1, 2, 3, 4, 5, 6], size=10000, 6)\n",
    "rolls['die2'] = np.random.choice([1, 2, 3, 4, 5, 6], size=10000)\n",
    "rolls['total'] = rolls.die1 + rolls.die2"
   ]
  },
  {
   "cell_type": "code",
   "execution_count": 35,
   "metadata": {},
   "outputs": [
    {
     "data": {
      "text/html": [
       "<div>\n",
       "<style scoped>\n",
       "    .dataframe tbody tr th:only-of-type {\n",
       "        vertical-align: middle;\n",
       "    }\n",
       "\n",
       "    .dataframe tbody tr th {\n",
       "        vertical-align: top;\n",
       "    }\n",
       "\n",
       "    .dataframe thead th {\n",
       "        text-align: right;\n",
       "    }\n",
       "</style>\n",
       "<table border=\"1\" class=\"dataframe\">\n",
       "  <thead>\n",
       "    <tr style=\"text-align: right;\">\n",
       "      <th></th>\n",
       "      <th>die1</th>\n",
       "      <th>die2</th>\n",
       "      <th>total</th>\n",
       "    </tr>\n",
       "  </thead>\n",
       "  <tbody>\n",
       "    <tr>\n",
       "      <th>0</th>\n",
       "      <td>1</td>\n",
       "      <td>2</td>\n",
       "      <td>3</td>\n",
       "    </tr>\n",
       "    <tr>\n",
       "      <th>1</th>\n",
       "      <td>6</td>\n",
       "      <td>3</td>\n",
       "      <td>9</td>\n",
       "    </tr>\n",
       "    <tr>\n",
       "      <th>2</th>\n",
       "      <td>3</td>\n",
       "      <td>2</td>\n",
       "      <td>5</td>\n",
       "    </tr>\n",
       "    <tr>\n",
       "      <th>3</th>\n",
       "      <td>2</td>\n",
       "      <td>3</td>\n",
       "      <td>5</td>\n",
       "    </tr>\n",
       "    <tr>\n",
       "      <th>4</th>\n",
       "      <td>2</td>\n",
       "      <td>1</td>\n",
       "      <td>3</td>\n",
       "    </tr>\n",
       "    <tr>\n",
       "      <th>...</th>\n",
       "      <td>...</td>\n",
       "      <td>...</td>\n",
       "      <td>...</td>\n",
       "    </tr>\n",
       "    <tr>\n",
       "      <th>9995</th>\n",
       "      <td>5</td>\n",
       "      <td>2</td>\n",
       "      <td>7</td>\n",
       "    </tr>\n",
       "    <tr>\n",
       "      <th>9996</th>\n",
       "      <td>4</td>\n",
       "      <td>2</td>\n",
       "      <td>6</td>\n",
       "    </tr>\n",
       "    <tr>\n",
       "      <th>9997</th>\n",
       "      <td>6</td>\n",
       "      <td>3</td>\n",
       "      <td>9</td>\n",
       "    </tr>\n",
       "    <tr>\n",
       "      <th>9998</th>\n",
       "      <td>4</td>\n",
       "      <td>5</td>\n",
       "      <td>9</td>\n",
       "    </tr>\n",
       "    <tr>\n",
       "      <th>9999</th>\n",
       "      <td>4</td>\n",
       "      <td>6</td>\n",
       "      <td>10</td>\n",
       "    </tr>\n",
       "  </tbody>\n",
       "</table>\n",
       "<p>10000 rows × 3 columns</p>\n",
       "</div>"
      ],
      "text/plain": [
       "      die1  die2  total\n",
       "0        1     2      3\n",
       "1        6     3      9\n",
       "2        3     2      5\n",
       "3        2     3      5\n",
       "4        2     1      3\n",
       "...    ...   ...    ...\n",
       "9995     5     2      7\n",
       "9996     4     2      6\n",
       "9997     6     3      9\n",
       "9998     4     5      9\n",
       "9999     4     6     10\n",
       "\n",
       "[10000 rows x 3 columns]"
      ]
     },
     "execution_count": 35,
     "metadata": {},
     "output_type": "execute_result"
    }
   ],
   "source": [
    "rolls"
   ]
  },
  {
   "cell_type": "code",
   "execution_count": 70,
   "metadata": {},
   "outputs": [],
   "source": [
    "# Realized I was headed the wrong direction with the above code, so created a pandas series instead.\n",
    "# Generated the histogram based on the series and turns out, I got a fairly normal looking distribution. Cool!\n",
    "\n",
    "rolls_test = np.random.choice([1, 2, 3, 4, 5, 6], size=(10000, 6))\n",
    "roll_mean = rolls_test.mean(axis = 1)"
   ]
  },
  {
   "cell_type": "code",
   "execution_count": 71,
   "metadata": {},
   "outputs": [],
   "source": [
    "roll_mean = pd.Series(rolls_test.mean(axis = 1))"
   ]
  },
  {
   "cell_type": "code",
   "execution_count": 72,
   "metadata": {},
   "outputs": [
    {
     "data": {
      "text/plain": [
       "0       1.666667\n",
       "1       4.333333\n",
       "2       3.333333\n",
       "3       5.166667\n",
       "4       4.500000\n",
       "          ...   \n",
       "9995    1.833333\n",
       "9996    3.166667\n",
       "9997    2.833333\n",
       "9998    5.000000\n",
       "9999    3.500000\n",
       "Length: 10000, dtype: float64"
      ]
     },
     "execution_count": 72,
     "metadata": {},
     "output_type": "execute_result"
    }
   ],
   "source": [
    "roll_mean"
   ]
  },
  {
   "cell_type": "code",
   "execution_count": 73,
   "metadata": {},
   "outputs": [
    {
     "data": {
      "image/png": "[encoded data removed]",
      "text/plain": [
       "<Figure size 1152x648 with 1 Axes>"
      ]
     },
     "metadata": {
      "needs_background": "light"
     },
     "output_type": "display_data"
    }
   ],
   "source": [
    "roll_mean.plot.hist()\n",
    "plt.show()"
   ]
  },
  {
   "cell_type": "code",
   "execution_count": 58,
   "metadata": {},
   "outputs": [],
   "source": [
    "se = math.sqrt((.25 * .75 / n))"
   ]
  },
  {
   "cell_type": "code",
   "execution_count": 62,
   "metadata": {},
   "outputs": [
    {
     "name": "stdout",
     "output_type": "stream",
     "text": [
      "SE:                 0.0866\n",
      "sample_means.std(): 0.0864\n"
     ]
    }
   ],
   "source": [
    "print('SE:                 %.4f' % se)\n",
    "print('sample_means.std(): %.4f' % calculated_winrates.std())"
   ]
  },
  {
   "cell_type": "code",
   "execution_count": 74,
   "metadata": {},
   "outputs": [
    {
     "data": {
      "text/plain": [
       "0.2788499345493136"
      ]
     },
     "execution_count": 74,
     "metadata": {},
     "output_type": "execute_result"
    }
   ],
   "source": [
    "mean = calculated_winrates.mean()\n",
    "sd = calculated_winrates.std()\n",
    "\n",
    "stats.norm(mean, sd).cdf(.2)"
   ]
  },
  {
   "cell_type": "markdown",
   "metadata": {},
   "source": [
    "#### Mini Exercise -- Null + Alternate Hypothesis and Errors\n",
    "\n",
    "For each of the following scenarios: refine the question, generate a null and alternative hypothesis, and give examples of true positives, true negatives, type I and type II errors.\n",
    "\n",
    "- Are the average grades in web development vs data science classes different?\n",
    "- Is there a relationship between how early a student shows up to class and their grade?\n",
    "- Are web dev or data science students more likely to be coffee drinkers?"
   ]
  },
  {
   "cell_type": "code",
   "execution_count": 76,
   "metadata": {},
   "outputs": [
    {
     "name": "stdout",
     "output_type": "stream",
     "text": [
      "H0 Null Hypothesis: The average grades are statistically the same between the two classes.\n",
      "Alt Hypothesis: The average grades in the data science class are different than the web development class\n"
     ]
    }
   ],
   "source": [
    "# Are the average grades in web development vs data science classes different?\n",
    "\n",
    "print(\"Null Hypothesis: The average grades are statistically the same between the two classes.\")\n",
    "print(\"Alt Hypothesis: The average grades in the data science class are different than the web development class\")"
   ]
  },
  {
   "cell_type": "code",
   "execution_count": 93,
   "metadata": {},
   "outputs": [
    {
     "name": "stdout",
     "output_type": "stream",
     "text": [
      "We accepted the null hypothesis, and the average score for DS was 89, and the average web dev score was 89.\n",
      "    \n",
      "We rejected the null hypothesis, and the average score for DS was 89, and the average web dev score was 85.\n",
      "    \n",
      "We rejected the null hypothesis, and the average score for DS was 89, and the average web dev score was 89. \n",
      "This is a type I error.\n",
      "    \n",
      "We accepted the null hypothesis, and the average score for DS was 89, and the average web dev score was 85. \n",
      "This is a type II error.\n"
     ]
    }
   ],
   "source": [
    "# Examples of True Positives and Negatives, and Type I and Type II Errors:\n",
    "\n",
    "# True Negative:\n",
    "print('We accepted the null hypothesis, and the average score for DS was 89, and the average web dev score was 89.')\n",
    "print('    ')\n",
    "# True Positive:\n",
    "print('We rejected the null hypothesis, and the average score for DS was 89, and the average web dev score was 85.')\n",
    "print('    ')\n",
    "# False Negative:\n",
    "print('We rejected the null hypothesis, and the average score for DS was 89, and the average web dev score was 89. \\nThis is a type I error.')\n",
    "print('    ')\n",
    "# False Positive: \n",
    "print('We accepted the null hypothesis, and the average score for DS was 89, and the average web dev score was 85. \\nThis is a type II error.')\n"
   ]
  },
  {
   "cell_type": "code",
   "execution_count": 94,
   "metadata": {},
   "outputs": [
    {
     "name": "stdout",
     "output_type": "stream",
     "text": [
      "Null Hypothesis: Students who show up early have a higher average grade.\n",
      "Alt Hypothesis: The average student grade is not effected by showing up early to class.\n"
     ]
    }
   ],
   "source": [
    "# Is there a relationship between how early a student shows up to class and their grade?\n",
    "\n",
    "print(\"Null Hypothesis: Students who show up early have a higher average grade.\")\n",
    "print(\"Alt Hypothesis: The average student grade is not effected by showing up early to class.\")"
   ]
  },
  {
   "cell_type": "code",
   "execution_count": 95,
   "metadata": {},
   "outputs": [
    {
     "name": "stdout",
     "output_type": "stream",
     "text": [
      "The average score for early students is 90. The class average is 85.\n",
      "    \n",
      "The average score for early students is 90. However the class average is also 90.\n",
      "    \n",
      "We reject the null hypothesis. The average score for early students is 90. However the class average is lower at 85. \n",
      "This is a type I error.\n",
      "    \n",
      "We accept the null hypothesis. The average score for early students is 90. However the class average is the same at 90. \n",
      "This is a type II error.\n"
     ]
    }
   ],
   "source": [
    "# Examples of True Positives and Negatives, and Type I and Type II Errors:\n",
    "\n",
    "# True Negative:\n",
    "print(\"The average score for early students is 90. The class average is 85.\")\n",
    "print('    ')\n",
    "# True Positive:\n",
    "print(\"The average score for early students is 90. However the class average is also 90.\")\n",
    "print('    ')\n",
    "# False Negative:\n",
    "print(\"We reject the null hypothesis. The average score for early students is 90. However the class average is lower at 85. \\nThis is a type I error.\")\n",
    "print('    ')\n",
    "# False Positive: \n",
    "print(\"We accept the null hypothesis. The average score for early students is 90. However the class average is the same at 90. \\nThis is a type II error.\")"
   ]
  },
  {
   "cell_type": "code",
   "execution_count": 96,
   "metadata": {},
   "outputs": [
    {
     "name": "stdout",
     "output_type": "stream",
     "text": [
      "Null Hypothesis: DS students are more likely to be coffee drinkers.\n",
      "Alt Hypothesis: The class type has no impact on how likely a student is to be a coffee drinker.\n"
     ]
    }
   ],
   "source": [
    "# Are web dev or data science students more likely to be coffee drinkers?\n",
    "# Short answer, YES, DS students are most definitely more likely to be coffee drinkers. ;)\n",
    "\n",
    "# Working through the exercise:\n",
    "\n",
    "print(\"Null Hypothesis: DS students are more likely to be coffee drinkers.\")\n",
    "print(\"Alt Hypothesis: The class type has no impact on how likely a student is to be a coffee drinker.\")"
   ]
  },
  {
   "cell_type": "code",
   "execution_count": 97,
   "metadata": {},
   "outputs": [
    {
     "name": "stdout",
     "output_type": "stream",
     "text": [
      "The average number of coffee-drinking DS students is 15, while the average number of web dev students is 10. \n",
      "This is a True negative.\n",
      "    \n",
      "The average number of coffee-drinking DS students is 15, while the average number of web dev students is also 15. \n",
      "This is a True positive.\n",
      "    \n",
      "We reject the null hypothesis, however the average number of coffee-drinking DS students is 15, while the average number of web dev students is 10. \n",
      "This is a Type I error.\n",
      "    \n",
      "We failed to reject the null hypothesis, however the average number of coffee-drinking DS students is 15, while the average number of web dev students is also 15. \n",
      "This is a type II error.\n",
      "    \n"
     ]
    }
   ],
   "source": [
    "# Examples of True Positives and Negatives, and Type I and Type II Errors:\n",
    "\n",
    "# True Negative:\n",
    "print('The average number of coffee-drinking DS students is 15, while the average number of web dev students is 10. \\nThis is a True negative.')\n",
    "print('    ')\n",
    "# True Positive:\n",
    "print('The average number of coffee-drinking DS students is 15, while the average number of web dev students is also 15. \\nThis is a True positive.')\n",
    "print('    ')\n",
    "# False Negative:\n",
    "print('We reject the null hypothesis, however the average number of coffee-drinking DS students is 15, while the average number of web dev students is 10. \\nThis is a Type I error.')\n",
    "print('    ')\n",
    "# False Positive: \n",
    "print('We failed to reject the null hypothesis, however the average number of coffee-drinking DS students is 15, while the average number of web dev students is also 15. \\nThis is a type II error.')\n",
    "print('    ')"
   ]
  },
  {
   "cell_type": "code",
   "execution_count": null,
   "metadata": {},
   "outputs": [],
   "source": []
  }
 ],
 "metadata": {
  "kernelspec": {
   "display_name": "Python 3",
   "language": "python",
   "name": "python3"
  },
  "language_info": {
   "codemirror_mode": {
    "name": "ipython",
    "version": 3
   },
   "file_extension": ".py",
   "mimetype": "text/x-python",
   "name": "python",
   "nbconvert_exporter": "python",
   "pygments_lexer": "ipython3",
   "version": "3.7.6"
  }
 },
 "nbformat": 4,
 "nbformat_minor": 4
}
