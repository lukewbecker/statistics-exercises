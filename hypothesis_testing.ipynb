{
 "cells": [
  {
   "cell_type": "code",
   "execution_count": 1,
   "metadata": {},
   "outputs": [],
   "source": [
    "# Exercises for Hypothesis Overview homework"
   ]
  },
  {
   "cell_type": "code",
   "execution_count": 13,
   "metadata": {},
   "outputs": [],
   "source": [
    "import numpy as np\n",
    "import matplotlib.pyplot as plt"
   ]
  },
  {
   "cell_type": "markdown",
   "metadata": {},
   "source": [
    "For each of the following questions, formulate a null and alternative hypothesis (be as specific as you can be), then give an example of what a true positive, true negative, type I and type II errors would look like. Note that some of the questions are intentionally phrased in a vague way. It is your job to reword these as more precise questions that could be tested.\n",
    "\n",
    "- Has the network latency gone up since we switched internet service providers?\n",
    "- Is the website redesign any good?\n",
    "- Is our television ad driving more sales?"
   ]
  },
  {
   "cell_type": "code",
   "execution_count": 27,
   "metadata": {},
   "outputs": [
    {
     "name": "stdout",
     "output_type": "stream",
     "text": [
      "Null Hypothesis: Network latency has not changed since the switch.\n",
      "Alt Hypothesis: Network latency has gone up since the switch.\n"
     ]
    }
   ],
   "source": [
    "# Formulate the null hypothesis:\n",
    "\n",
    "null_notation = \"0\"\n",
    "\n",
    "null_hypothesis = f\"Null Hypothesis: Network latency has not changed since the switch.\"\n",
    "\n",
    "alt_hypothesis = \"Alt Hypothesis: Network latency has gone up since the switch.\"\n",
    "\n",
    "print(null_hypothesis)\n",
    "print(alt_hypothesis)"
   ]
  },
  {
   "cell_type": "code",
   "execution_count": 28,
   "metadata": {},
   "outputs": [
    {
     "name": "stdout",
     "output_type": "stream",
     "text": [
      "Null Hypothesis: Website visits have increased by at least 2% since website redesign\n",
      "Alt Hypothesis: Website visits haven't changed since website redesign\n"
     ]
    }
   ],
   "source": [
    "# Hypotheses regarding the website design.\n",
    "\n",
    "print(\"Null Hypothesis: Website visits have increased by at least 2% since website redesign\")\n",
    "print(\"Alt Hypothesis: Website visits haven't changed since website redesign\")"
   ]
  },
  {
   "cell_type": "code",
   "execution_count": 29,
   "metadata": {},
   "outputs": [
    {
     "name": "stdout",
     "output_type": "stream",
     "text": [
      "Null Hypothesis: We had higher average daily sales after the TV ad ran.\n",
      "Alt Hypothesis: There was no change in average daily sales after the TV ad ran.\n"
     ]
    }
   ],
   "source": [
    "# Is our television ad driving more sales?\n",
    "\n",
    "print(\"Null Hypothesis: We had higher average daily sales after the TV ad ran.\")\n",
    "print(\"Alt Hypothesis: There was no change in average daily sales after the TV ad ran.\")"
   ]
  }
 ],
 "metadata": {
  "kernelspec": {
   "display_name": "Python 3",
   "language": "python",
   "name": "python3"
  },
  "language_info": {
   "codemirror_mode": {
    "name": "ipython",
    "version": 3
   },
   "file_extension": ".py",
   "mimetype": "text/x-python",
   "name": "python",
   "nbconvert_exporter": "python",
   "pygments_lexer": "ipython3",
   "version": "3.7.6"
  }
 },
 "nbformat": 4,
 "nbformat_minor": 4
}
