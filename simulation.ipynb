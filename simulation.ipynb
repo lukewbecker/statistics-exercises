{
 "cells": [
  {
   "cell_type": "code",
   "execution_count": 3,
   "metadata": {},
   "outputs": [],
   "source": [
    "# CodeUp curriculum statistics exercises"
   ]
  },
  {
   "cell_type": "code",
   "execution_count": 4,
   "metadata": {},
   "outputs": [],
   "source": [
    "# On a side note, I'm extremely excited to be learning statistics and using python/numpy to help with it! This is so cool what we are learning."
   ]
  },
  {
   "cell_type": "code",
   "execution_count": 24,
   "metadata": {},
   "outputs": [],
   "source": [
    "# First step is importing the libraries I'll need to use:\n",
    "\n",
    "import pandas as pd\n",
    "import numpy as np\n",
    "import matplotlib.pyplot as plt\n",
    "import seaborn as sns\n",
    "\n",
    "# I may not need the charting functions right away, but I prefer to have all my imports at the top of my file, per best practices cited by codeup instructors."
   ]
  },
  {
   "cell_type": "code",
   "execution_count": 25,
   "metadata": {},
   "outputs": [],
   "source": [
    "# First, starting out with examples from the curriculum for purposes of better rention of topic."
   ]
  },
  {
   "cell_type": "code",
   "execution_count": 47,
   "metadata": {},
   "outputs": [],
   "source": [
    "np.random.seed(29)"
   ]
  },
  {
   "cell_type": "code",
   "execution_count": 27,
   "metadata": {},
   "outputs": [],
   "source": [
    "quartile_array = np.array([1, 2, 3, 4, 5, 6, 7, 8])"
   ]
  },
  {
   "cell_type": "code",
   "execution_count": 28,
   "metadata": {},
   "outputs": [
    {
     "data": {
      "text/plain": [
       "2.75"
      ]
     },
     "execution_count": 28,
     "metadata": {},
     "output_type": "execute_result"
    }
   ],
   "source": [
    "np.quantile(quartile_array, 0.25)"
   ]
  },
  {
   "cell_type": "code",
   "execution_count": 31,
   "metadata": {},
   "outputs": [],
   "source": [
    "# np.random.choice?"
   ]
  },
  {
   "cell_type": "code",
   "execution_count": 32,
   "metadata": {},
   "outputs": [
    {
     "data": {
      "text/plain": [
       "0.753"
      ]
     },
     "execution_count": 32,
     "metadata": {},
     "output_type": "execute_result"
    }
   ],
   "source": [
    "# Example of flipping an unfair coin 10,000 times. \"Unfair\" as in the definition set in my probabilities variable.\n",
    "\n",
    "probabilities = [.75, .25]\n",
    "flips = np.random.choice([\"Heads\", \"Tails\"], size = 10_000, p=probabilities)\n",
    "(flips == \"Heads\").mean()"
   ]
  },
  {
   "cell_type": "code",
   "execution_count": 38,
   "metadata": {},
   "outputs": [],
   "source": [
    "mean_num = 50\n",
    "std_dev_num = 25\n",
    "numbers = np.random.normal(mean_num, std_dev_num, size = 10000)\n",
    "numbers = pd.Series(numbers)\n"
   ]
  },
  {
   "cell_type": "code",
   "execution_count": 40,
   "metadata": {},
   "outputs": [
    {
     "data": {
      "text/plain": [
       "<bound method Series.mean of 0       47.100626\n",
       "1       49.127286\n",
       "2       20.553275\n",
       "3       58.104817\n",
       "4       48.670140\n",
       "          ...    \n",
       "9995    64.030836\n",
       "9996    57.717181\n",
       "9997    70.174863\n",
       "9998    72.704321\n",
       "9999    33.394554\n",
       "Length: 10000, dtype: float64>"
      ]
     },
     "execution_count": 40,
     "metadata": {},
     "output_type": "execute_result"
    }
   ],
   "source": [
    "numbers.mean"
   ]
  },
  {
   "cell_type": "code",
   "execution_count": 23,
   "metadata": {},
   "outputs": [],
   "source": [
    "# Now, on to the exercises for the Simulation lesson:"
   ]
  },
  {
   "cell_type": "markdown",
   "metadata": {},
   "source": [
    "### 1. How likely is it that you roll doubles when rolling two dice?"
   ]
  },
  {
   "cell_type": "code",
   "execution_count": 64,
   "metadata": {},
   "outputs": [],
   "source": [
    "# Setting up rolling the dice 10,000 times\n",
    "\n",
    "# First I need to create a place (a variable) to store my die rolls (per die, since ultimately that's what I'm trying to compare):\n",
    "\n",
    "die1 = np.random.choice([1, 2, 3, 4, 5, 6], size = 10_000)\n",
    "die2 = np.random.choice([1, 2, 3, 4, 5, 6], size = 10_000)"
   ]
  },
  {
   "cell_type": "code",
   "execution_count": 58,
   "metadata": {},
   "outputs": [],
   "source": [
    "# Now creating a boolean mask to return True or False depending on if the die rolls returns the same number.\n",
    "\n",
    "die1 == die2\n",
    "\n",
    "# And assigning that mask to a variable named doubles:\n",
    "doubles = die1 == die2"
   ]
  },
  {
   "cell_type": "code",
   "execution_count": 59,
   "metadata": {},
   "outputs": [
    {
     "data": {
      "text/plain": [
       "array([False, False, False, ..., False, False,  True])"
      ]
     },
     "execution_count": 59,
     "metadata": {},
     "output_type": "execute_result"
    }
   ],
   "source": [
    "# Nice little array I have of True/False observations.\n",
    "doubles"
   ]
  },
  {
   "cell_type": "code",
   "execution_count": 63,
   "metadata": {},
   "outputs": [
    {
     "name": "stdout",
     "output_type": "stream",
     "text": [
      "There is a 0.1612 chance of the dice roll returning the same numbers.\n"
     ]
    }
   ],
   "source": [
    "# Now find the sum / length, which is the average, ie, the CHANCE of the double number rolls:\n",
    "# The quick way to do this is to use the .mean() function.\n",
    "\n",
    "doubles.mean()\n",
    "\n",
    "print(f'There is a {doubles.mean()} chance of the dice roll returning the same numbers.')\n",
    "\n",
    "# Big thanks to Ryan for reminding me that since numpy uses arrays, I don't have to \"manually\" define a function that iterates through each observation. Numpy does that for me automatically. Cool!"
   ]
  },
  {
   "cell_type": "markdown",
   "metadata": {},
   "source": [
    "### If you flip 8 coins, what is the probability of getting exactly 3 heads? What is the probability of getting more than 3 heads?"
   ]
  },
  {
   "cell_type": "code",
   "execution_count": 66,
   "metadata": {},
   "outputs": [],
   "source": [
    "# So just like the prior problem, I need to setup variables to store the results for each coin I flip.\n",
    "# coin1, coin2, etc.\n",
    "# I'm only going to start with 100 coin tosses just to keep the numbers smaller for my understanding... then increase later.\n",
    "\n",
    "coin1 = np.random.choice([\"Heads\", \"Tails\"], size = 100)\n",
    "coin2 = np.random.choice([\"Heads\", \"Tails\"], size = 100)\n",
    "coin3 = np.random.choice([\"Heads\", \"Tails\"], size = 100)\n",
    "coin4 = np.random.choice([\"Heads\", \"Tails\"], size = 100)\n",
    "coin5 = np.random.choice([\"Heads\", \"Tails\"], size = 100)\n",
    "coin6 = np.random.choice([\"Heads\", \"Tails\"], size = 100)\n",
    "coin7 = np.random.choice([\"Heads\", \"Tails\"], size = 100)\n",
    "coin8 = np.random.choice([\"Heads\", \"Tails\"], size = 100)"
   ]
  },
  {
   "cell_type": "code",
   "execution_count": 68,
   "metadata": {},
   "outputs": [
    {
     "data": {
      "text/plain": [
       "array(['Heads', 'Tails', 'Tails', 'Heads', 'Tails', 'Tails', 'Tails',\n",
       "       'Tails', 'Tails', 'Heads', 'Tails', 'Tails', 'Heads', 'Heads',\n",
       "       'Heads', 'Heads', 'Heads', 'Tails', 'Heads', 'Tails', 'Tails',\n",
       "       'Tails', 'Heads', 'Tails', 'Tails', 'Heads', 'Tails', 'Tails',\n",
       "       'Heads', 'Tails', 'Heads', 'Heads', 'Heads', 'Heads', 'Tails',\n",
       "       'Heads', 'Tails', 'Tails', 'Tails', 'Tails', 'Tails', 'Heads',\n",
       "       'Heads', 'Heads', 'Heads', 'Tails', 'Heads', 'Heads', 'Tails',\n",
       "       'Heads', 'Tails', 'Tails', 'Heads', 'Tails', 'Heads', 'Heads',\n",
       "       'Tails', 'Heads', 'Tails', 'Tails', 'Heads', 'Heads', 'Tails',\n",
       "       'Tails', 'Tails', 'Heads', 'Heads', 'Tails', 'Tails', 'Tails',\n",
       "       'Tails', 'Tails', 'Tails', 'Tails', 'Heads', 'Heads', 'Tails',\n",
       "       'Heads', 'Heads', 'Heads', 'Tails', 'Tails', 'Tails', 'Heads',\n",
       "       'Heads', 'Heads', 'Tails', 'Heads', 'Tails', 'Tails', 'Heads',\n",
       "       'Tails', 'Tails', 'Heads', 'Tails', 'Heads', 'Heads', 'Tails',\n",
       "       'Tails', 'Heads'], dtype='<U5')"
      ]
     },
     "execution_count": 68,
     "metadata": {},
     "output_type": "execute_result"
    }
   ],
   "source": [
    "# Visualizing what one of the coin toss result arrays looks like:\n",
    "\n",
    "coin1"
   ]
  },
  {
   "cell_type": "code",
   "execution_count": 71,
   "metadata": {},
   "outputs": [
    {
     "data": {
      "text/plain": [
       "numpy.ndarray"
      ]
     },
     "execution_count": 71,
     "metadata": {},
     "output_type": "execute_result"
    }
   ],
   "source": [
    "# And for good measure confirming what the variable type is, which should be a numpy array:\n",
    "type(coin1)"
   ]
  },
  {
   "cell_type": "code",
   "execution_count": 73,
   "metadata": {},
   "outputs": [
    {
     "data": {
      "text/plain": [
       "array([False,  True, False, False,  True, False,  True, False,  True,\n",
       "       False, False,  True,  True, False, False, False, False, False,\n",
       "        True,  True,  True, False,  True, False,  True, False,  True,\n",
       "        True,  True, False,  True, False,  True, False, False,  True,\n",
       "        True,  True,  True, False,  True, False,  True,  True,  True,\n",
       "        True,  True, False, False,  True,  True, False,  True,  True,\n",
       "        True,  True, False, False, False,  True,  True, False, False,\n",
       "        True, False,  True, False,  True,  True,  True,  True, False,\n",
       "       False,  True, False, False,  True, False,  True,  True,  True,\n",
       "       False, False, False,  True,  True, False, False, False,  True,\n",
       "       False, False,  True,  True,  True, False, False,  True,  True,\n",
       "       False])"
      ]
     },
     "execution_count": 73,
     "metadata": {},
     "output_type": "execute_result"
    }
   ],
   "source": [
    "# Now, in plain English, what I am trying to do is figure out a ratio which tells me how many times there were a set of flips in which 3 or fewer coins were showing heads.\n",
    "# In other words, return True when 'Heads <= 3'\n",
    "\n",
    "\n",
    "test1 = lamba()"
   ]
  },
  {
   "cell_type": "code",
   "execution_count": 82,
   "metadata": {},
   "outputs": [
    {
     "data": {
      "text/plain": [
       "False"
      ]
     },
     "execution_count": 82,
     "metadata": {},
     "output_type": "execute_result"
    }
   ],
   "source": [
    "coin1[0] == coin2[0]"
   ]
  },
  {
   "cell_type": "code",
   "execution_count": null,
   "metadata": {},
   "outputs": [],
   "source": [
    "# Thanks to fellow students, especially Sam on helping me through this one."
   ]
  },
  {
   "cell_type": "code",
   "execution_count": 94,
   "metadata": {},
   "outputs": [
    {
     "data": {
      "text/plain": [
       "0.2142"
      ]
     },
     "execution_count": 94,
     "metadata": {},
     "output_type": "execute_result"
    }
   ],
   "source": [
    "# If you flip 8 coins, what is the probability of getting exactly 3 heads? \n",
    "def heads_counter(coinflips):\n",
    "    count = 0\n",
    "    for result in coinflips:\n",
    "        if result == 'heads':\n",
    "            count += 1\n",
    "    return count\n",
    "n_sims = nrows = 10000\n",
    "n_coins = ncols = 8\n",
    "flips = np.random.choice(['heads', 'tails'], n_sims * n_coins).reshape(nrows, ncols)\n",
    "flips_df = pd.DataFrame(flips)\n",
    "flips_df.apply(lambda x: heads_counter(x) == 3, axis = 1).mean()\n",
    "\n",
    "# Interestingly, when adding .mean() to the end of this last lamba apply it only counts the Trues, or 1s, in the resulting function result, but still averages it over the entire count of the rows. Boolean Masks are very powerful."
   ]
  },
  {
   "cell_type": "markdown",
   "metadata": {},
   "source": [
    "#### 3. There are approximately 3 web development cohorts for every 1 data science cohort at Codeup. Assuming that Codeup randomly selects an alumni to put on a billboard, what are the odds that the two billboards I drive past both have data science students on them?"
   ]
  },
  {
   "cell_type": "code",
   "execution_count": 95,
   "metadata": {},
   "outputs": [],
   "source": [
    "# So, a 1 in 4 chance as I read the question, or 25% chance(?)"
   ]
  },
  {
   "cell_type": "code",
   "execution_count": null,
   "metadata": {},
   "outputs": [],
   "source": []
  },
  {
   "cell_type": "code",
   "execution_count": null,
   "metadata": {},
   "outputs": [],
   "source": []
  },
  {
   "cell_type": "code",
   "execution_count": null,
   "metadata": {},
   "outputs": [],
   "source": []
  },
  {
   "cell_type": "code",
   "execution_count": null,
   "metadata": {},
   "outputs": [],
   "source": []
  },
  {
   "cell_type": "code",
   "execution_count": null,
   "metadata": {},
   "outputs": [],
   "source": []
  },
  {
   "cell_type": "code",
   "execution_count": null,
   "metadata": {},
   "outputs": [],
   "source": []
  }
 ],
 "metadata": {
  "kernelspec": {
   "display_name": "Python 3",
   "language": "python",
   "name": "python3"
  },
  "language_info": {
   "codemirror_mode": {
    "name": "ipython",
    "version": 3
   },
   "file_extension": ".py",
   "mimetype": "text/x-python",
   "name": "python",
   "nbconvert_exporter": "python",
   "pygments_lexer": "ipython3",
   "version": "3.7.6"
  }
 },
 "nbformat": 4,
 "nbformat_minor": 4
}
