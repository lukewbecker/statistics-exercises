{
 "cells": [
  {
   "cell_type": "code",
   "execution_count": 1,
   "metadata": {},
   "outputs": [],
   "source": [
    "# CodeUp curriculum statistics exercises"
   ]
  },
  {
   "cell_type": "code",
   "execution_count": 2,
   "metadata": {},
   "outputs": [],
   "source": [
    "# On a side note, I'm extremely excited to be learning statistics and using python/numpy to help with it! This is so cool what we are learning."
   ]
  },
  {
   "cell_type": "code",
   "execution_count": 209,
   "metadata": {},
   "outputs": [],
   "source": [
    "# First step is importing the libraries I'll need to use:\n",
    "\n",
    "import pandas as pd\n",
    "import numpy as np\n",
    "import matplotlib.pyplot as plt\n",
    "import seaborn as sns\n",
    "\n",
    "# I may not need the charting functions right away, but I prefer to have all my imports at the top of my file, per best practices cited by codeup instructors."
   ]
  },
  {
   "cell_type": "code",
   "execution_count": 4,
   "metadata": {},
   "outputs": [],
   "source": [
    "# First, starting out with examples from the curriculum for purposes of better rention of topic."
   ]
  },
  {
   "cell_type": "code",
   "execution_count": 5,
   "metadata": {},
   "outputs": [],
   "source": [
    "np.random.seed(29)"
   ]
  },
  {
   "cell_type": "code",
   "execution_count": 27,
   "metadata": {},
   "outputs": [],
   "source": [
    "quartile_array = np.array([1, 2, 3, 4, 5, 6, 7, 8])"
   ]
  },
  {
   "cell_type": "code",
   "execution_count": 28,
   "metadata": {},
   "outputs": [
    {
     "data": {
      "text/plain": [
       "2.75"
      ]
     },
     "execution_count": 28,
     "metadata": {},
     "output_type": "execute_result"
    }
   ],
   "source": [
    "np.quantile(quartile_array, 0.25)"
   ]
  },
  {
   "cell_type": "code",
   "execution_count": 31,
   "metadata": {},
   "outputs": [],
   "source": [
    "# np.random.choice?"
   ]
  },
  {
   "cell_type": "code",
   "execution_count": 32,
   "metadata": {},
   "outputs": [
    {
     "data": {
      "text/plain": [
       "0.753"
      ]
     },
     "execution_count": 32,
     "metadata": {},
     "output_type": "execute_result"
    }
   ],
   "source": [
    "# Example of flipping an unfair coin 10,000 times. \"Unfair\" as in the definition set in my probabilities variable.\n",
    "\n",
    "probabilities = [.75, .25]\n",
    "flips = np.random.choice([\"Heads\", \"Tails\"], size = 10_000, p=probabilities)\n",
    "(flips == \"Heads\").mean()"
   ]
  },
  {
   "cell_type": "code",
   "execution_count": 38,
   "metadata": {},
   "outputs": [],
   "source": [
    "mean_num = 50\n",
    "std_dev_num = 25\n",
    "numbers = np.random.normal(mean_num, std_dev_num, size = 10000)\n",
    "numbers = pd.Series(numbers)\n"
   ]
  },
  {
   "cell_type": "code",
   "execution_count": 40,
   "metadata": {},
   "outputs": [
    {
     "data": {
      "text/plain": [
       "<bound method Series.mean of 0       47.100626\n",
       "1       49.127286\n",
       "2       20.553275\n",
       "3       58.104817\n",
       "4       48.670140\n",
       "          ...    \n",
       "9995    64.030836\n",
       "9996    57.717181\n",
       "9997    70.174863\n",
       "9998    72.704321\n",
       "9999    33.394554\n",
       "Length: 10000, dtype: float64>"
      ]
     },
     "execution_count": 40,
     "metadata": {},
     "output_type": "execute_result"
    }
   ],
   "source": [
    "numbers.mean"
   ]
  },
  {
   "cell_type": "code",
   "execution_count": 23,
   "metadata": {},
   "outputs": [],
   "source": [
    "# Now, on to the exercises for the Simulation lesson:"
   ]
  },
  {
   "cell_type": "markdown",
   "metadata": {},
   "source": [
    "### 1. How likely is it that you roll doubles when rolling two dice?"
   ]
  },
  {
   "cell_type": "code",
   "execution_count": 64,
   "metadata": {},
   "outputs": [],
   "source": [
    "# Setting up rolling the dice 10,000 times\n",
    "\n",
    "# First I need to create a place (a variable) to store my die rolls (per die, since ultimately that's what I'm trying to compare):\n",
    "\n",
    "die1 = np.random.choice([1, 2, 3, 4, 5, 6], size = 10_000)\n",
    "die2 = np.random.choice([1, 2, 3, 4, 5, 6], size = 10_000)"
   ]
  },
  {
   "cell_type": "code",
   "execution_count": 58,
   "metadata": {},
   "outputs": [],
   "source": [
    "# Now creating a boolean mask to return True or False depending on if the die rolls returns the same number.\n",
    "\n",
    "die1 == die2\n",
    "\n",
    "# And assigning that mask to a variable named doubles:\n",
    "doubles = die1 == die2"
   ]
  },
  {
   "cell_type": "code",
   "execution_count": 59,
   "metadata": {},
   "outputs": [
    {
     "data": {
      "text/plain": [
       "array([False, False, False, ..., False, False,  True])"
      ]
     },
     "execution_count": 59,
     "metadata": {},
     "output_type": "execute_result"
    }
   ],
   "source": [
    "# Nice little array I have of True/False observations.\n",
    "doubles"
   ]
  },
  {
   "cell_type": "code",
   "execution_count": 63,
   "metadata": {},
   "outputs": [
    {
     "name": "stdout",
     "output_type": "stream",
     "text": [
      "There is a 0.1612 chance of the dice roll returning the same numbers.\n"
     ]
    }
   ],
   "source": [
    "# Now find the sum / length, which is the average, ie, the CHANCE of the double number rolls:\n",
    "# The quick way to do this is to use the .mean() function.\n",
    "\n",
    "doubles.mean()\n",
    "\n",
    "print(f'There is a {doubles.mean()} chance of the dice roll returning the same numbers.')\n",
    "\n",
    "# Big thanks to Ryan for reminding me that since numpy uses arrays, I don't have to \"manually\" define a function that iterates through each observation. Numpy does that for me automatically. Cool!"
   ]
  },
  {
   "cell_type": "markdown",
   "metadata": {},
   "source": [
    "### 2. If you flip 8 coins, what is the probability of getting exactly 3 heads? What is the probability of getting more than 3 heads?"
   ]
  },
  {
   "cell_type": "code",
   "execution_count": 13,
   "metadata": {},
   "outputs": [],
   "source": [
    "# So just like the prior problem, I need to setup variables to store the results for each coin I flip.\n",
    "# coin1, coin2, etc.\n",
    "# I'm only going to start with 100 coin tosses just to keep the numbers smaller for my understanding... then increase later.\n",
    "\n",
    "coin1 = np.random.choice([\"Heads\", \"Tails\"], size = 100)\n",
    "coin2 = np.random.choice([\"Heads\", \"Tails\"], size = 100)\n",
    "coin3 = np.random.choice([\"Heads\", \"Tails\"], size = 100)\n",
    "coin4 = np.random.choice([\"Heads\", \"Tails\"], size = 100)\n",
    "coin5 = np.random.choice([\"Heads\", \"Tails\"], size = 100)\n",
    "coin6 = np.random.choice([\"Heads\", \"Tails\"], size = 100)\n",
    "coin7 = np.random.choice([\"Heads\", \"Tails\"], size = 100)\n",
    "coin8 = np.random.choice([\"Heads\", \"Tails\"], size = 100)"
   ]
  },
  {
   "cell_type": "code",
   "execution_count": 14,
   "metadata": {},
   "outputs": [
    {
     "data": {
      "text/plain": [
       "array(['Heads', 'Tails', 'Heads', 'Heads', 'Tails', 'Heads', 'Tails',\n",
       "       'Heads', 'Heads', 'Heads', 'Tails', 'Heads', 'Tails', 'Heads',\n",
       "       'Heads', 'Heads', 'Tails', 'Heads', 'Heads', 'Heads', 'Heads',\n",
       "       'Tails', 'Tails', 'Tails', 'Heads', 'Heads', 'Tails', 'Heads',\n",
       "       'Tails', 'Tails', 'Tails', 'Heads', 'Tails', 'Tails', 'Tails',\n",
       "       'Tails', 'Tails', 'Heads', 'Heads', 'Tails', 'Tails', 'Heads',\n",
       "       'Heads', 'Heads', 'Heads', 'Heads', 'Tails', 'Tails', 'Heads',\n",
       "       'Tails', 'Heads', 'Heads', 'Tails', 'Tails', 'Tails', 'Heads',\n",
       "       'Tails', 'Tails', 'Tails', 'Tails', 'Tails', 'Tails', 'Tails',\n",
       "       'Heads', 'Tails', 'Heads', 'Tails', 'Heads', 'Heads', 'Heads',\n",
       "       'Tails', 'Tails', 'Tails', 'Tails', 'Tails', 'Tails', 'Tails',\n",
       "       'Tails', 'Heads', 'Tails', 'Heads', 'Heads', 'Tails', 'Heads',\n",
       "       'Heads', 'Tails', 'Heads', 'Tails', 'Tails', 'Tails', 'Tails',\n",
       "       'Tails', 'Heads', 'Heads', 'Tails', 'Heads', 'Tails', 'Tails',\n",
       "       'Heads', 'Tails'], dtype='<U5')"
      ]
     },
     "execution_count": 14,
     "metadata": {},
     "output_type": "execute_result"
    }
   ],
   "source": [
    "# Visualizing what one of the coin toss result arrays looks like:\n",
    "\n",
    "coin1"
   ]
  },
  {
   "cell_type": "code",
   "execution_count": 15,
   "metadata": {},
   "outputs": [
    {
     "data": {
      "text/plain": [
       "numpy.ndarray"
      ]
     },
     "execution_count": 15,
     "metadata": {},
     "output_type": "execute_result"
    }
   ],
   "source": [
    "# And for good measure confirming what the variable type is, which should be a numpy array:\n",
    "type(coin1)"
   ]
  },
  {
   "cell_type": "code",
   "execution_count": 16,
   "metadata": {},
   "outputs": [],
   "source": [
    "# Now, in plain English, what I am trying to do is figure out a ratio which tells me how many times there were a set of flips in which 3 or fewer coins were showing heads.\n",
    "# In other words, return True when 'Heads <= 3'\n",
    "\n",
    "\n",
    "# test1 = lambda()... this is close but I need a full function. All the methods I tried with only lambda didn't work..."
   ]
  },
  {
   "cell_type": "code",
   "execution_count": 17,
   "metadata": {},
   "outputs": [
    {
     "data": {
      "text/plain": [
       "True"
      ]
     },
     "execution_count": 17,
     "metadata": {},
     "output_type": "execute_result"
    }
   ],
   "source": [
    "coin1[0] == coin2[0]"
   ]
  },
  {
   "cell_type": "code",
   "execution_count": null,
   "metadata": {},
   "outputs": [],
   "source": [
    "# Thanks to fellow students, especially Sam on helping me through this one."
   ]
  },
  {
   "cell_type": "code",
   "execution_count": 94,
   "metadata": {},
   "outputs": [
    {
     "data": {
      "text/plain": [
       "0.2142"
      ]
     },
     "execution_count": 94,
     "metadata": {},
     "output_type": "execute_result"
    }
   ],
   "source": [
    "# If you flip 8 coins, what is the probability of getting exactly 3 heads? \n",
    "def heads_counter(coinflips):\n",
    "    count = 0\n",
    "    for result in coinflips:\n",
    "        if result == 'heads':\n",
    "            count += 1\n",
    "    return count\n",
    "n_sims = nrows = 10000\n",
    "n_coins = ncols = 8\n",
    "flips = np.random.choice(['heads', 'tails'], n_sims * n_coins).reshape(nrows, ncols)\n",
    "flips_df = pd.DataFrame(flips)\n",
    "flips_df.apply(lambda x: heads_counter(x) == 3, axis = 1).mean()\n",
    "\n",
    "# Interestingly, when adding .mean() to the end of this last lamba apply it only counts the Trues, or 1s, in the resulting function result, but still averages it over the entire count of the rows. Boolean Masks are very powerful."
   ]
  },
  {
   "cell_type": "code",
   "execution_count": 5,
   "metadata": {},
   "outputs": [
    {
     "data": {
      "text/plain": [
       "0.6385"
      ]
     },
     "execution_count": 5,
     "metadata": {},
     "output_type": "execute_result"
    }
   ],
   "source": [
    "# What is the probability of getting more than 3 heads?\n",
    "\n",
    "def heads_counter(coinflips):\n",
    "    count = 0\n",
    "    for result in coinflips:\n",
    "        if result == 'heads':\n",
    "            count += 1\n",
    "    return count\n",
    "n_sims = nrows = 10000\n",
    "n_coins = ncols = 8\n",
    "flips = np.random.choice(['heads', 'tails'], n_sims * n_coins).reshape(nrows, ncols)\n",
    "flips_df = pd.DataFrame(flips)\n",
    "flips_df.apply(lambda x: heads_counter(x) > 3, axis = 1).mean()"
   ]
  },
  {
   "cell_type": "markdown",
   "metadata": {},
   "source": [
    "### 3. There are approximately 3 web development cohorts for every 1 data science cohort at Codeup. Assuming that Codeup randomly selects an alumni to put on a billboard, what are the odds that the two billboards I drive past both have data science students on them?"
   ]
  },
  {
   "cell_type": "code",
   "execution_count": 10,
   "metadata": {},
   "outputs": [
    {
     "data": {
      "text/plain": [
       "0.058"
      ]
     },
     "execution_count": 10,
     "metadata": {},
     "output_type": "execute_result"
    }
   ],
   "source": [
    "# Going to use the same function as before, since that seems to be working.\n",
    "\n",
    "def billboard(student):\n",
    "    count = 0\n",
    "    for result in student:\n",
    "        if result == 'ds':\n",
    "            count += 1\n",
    "    return count\n",
    "\n",
    "n_sims2 = nrows = 10_000\n",
    "n_students = ncols = 2\n",
    "\n",
    "billboards = np.random.choice(['web1', 'web2', 'web3', 'ds'], n_sims2 * n_students).reshape(nrows, ncols)\n",
    "billboards_df = pd.DataFrame(billboards)\n",
    "billboards_df.apply(lambda x: billboard(x) > 1, axis = 1).mean()\n",
    "\n",
    "# So, same concept as before, but this time the columns were only 2, since that's the number of \"outputs\" that we were trying to test on. Not 4, because we took care of that within the random choice function."
   ]
  },
  {
   "cell_type": "markdown",
   "metadata": {},
   "source": [
    "### 4. Codeup students buy, on average, 3 poptart packages (+- 1.5) a day from the snack vending machine. If on monday the machine is restocked with 17 poptart packages, how likely is it that I will be able to buy some poptarts on Friday afternoon?"
   ]
  },
  {
   "cell_type": "code",
   "execution_count": 9,
   "metadata": {},
   "outputs": [],
   "source": [
    "# Key on this one, don't return negative numbers... So I have to establish a baseline somewhere along in the function.\n",
    "\n",
    "def pop_tarts(snack):\n",
    "    count_snack = 0\n",
    "    for x in snack:\n",
    "        if result > 0:\n",
    "            count_snack +=1\n",
    "        return count_snack"
   ]
  },
  {
   "cell_type": "code",
   "execution_count": 18,
   "metadata": {},
   "outputs": [],
   "source": [
    "n_sims3 = nrows = 10_000\n",
    "n_vending = ncols = 1"
   ]
  },
  {
   "cell_type": "code",
   "execution_count": 39,
   "metadata": {},
   "outputs": [],
   "source": [
    "# This doesn't work, I need to use another random number generator.\n",
    "\n",
    "# vending_machine = np.random.randn()"
   ]
  },
  {
   "cell_type": "code",
   "execution_count": 41,
   "metadata": {},
   "outputs": [
    {
     "data": {
      "text/plain": [
       "array([ 3.52295482,  3.26860343,  3.40152975, ...,  6.52872321,\n",
       "       -0.82321151,  1.80749872])"
      ]
     },
     "execution_count": 41,
     "metadata": {},
     "output_type": "execute_result"
    }
   ],
   "source": [
    "# I think this is the right one to use, since we are talking about a normalized distribution.\n",
    "\n",
    "# np.random.normal(loc = 4, scale = 1)\n",
    "\n",
    "np.random.normal(3, 1.5, size = 10000)"
   ]
  },
  {
   "cell_type": "code",
   "execution_count": 55,
   "metadata": {},
   "outputs": [
    {
     "data": {
      "text/plain": [
       "0.7224"
      ]
     },
     "execution_count": 55,
     "metadata": {},
     "output_type": "execute_result"
    }
   ],
   "source": [
    "# But can't have a negative number in the distribution. \n",
    "\n",
    "numbers = np.random.normal(3, 1.5, size = (10000, 5))\n",
    "\n",
    "positive_numbers = numbers > 0\n",
    "\n",
    "positives = np.where(numbers < 0,0,numbers)\n",
    "positives\n"
   ]
  },
  {
   "cell_type": "code",
   "execution_count": 146,
   "metadata": {},
   "outputs": [],
   "source": [
    "# Ryan's solution:\n",
    "\n",
    "snacks_function = np.random.normal(3, 1.5, size=(100000, 5))"
   ]
  },
  {
   "cell_type": "code",
   "execution_count": 148,
   "metadata": {},
   "outputs": [
    {
     "data": {
      "text/plain": [
       "array([3.77211756, 0.67312586, 4.04933388, 3.39314377, 3.50130476])"
      ]
     },
     "execution_count": 148,
     "metadata": {},
     "output_type": "execute_result"
    }
   ],
   "source": [
    "snacks_function[0]"
   ]
  },
  {
   "cell_type": "code",
   "execution_count": 151,
   "metadata": {},
   "outputs": [],
   "source": [
    "weekly_demand = snacks_function.sum(axis=1)"
   ]
  },
  {
   "cell_type": "code",
   "execution_count": 152,
   "metadata": {},
   "outputs": [
    {
     "data": {
      "text/plain": [
       "array([ True,  True,  True, ...,  True,  True,  True])"
      ]
     },
     "execution_count": 152,
     "metadata": {},
     "output_type": "execute_result"
    }
   ],
   "source": [
    "# Key step: Creating the boolean mask aka, the magic sauce.\n",
    "\n",
    "weekly_demand < 17"
   ]
  },
  {
   "cell_type": "code",
   "execution_count": 153,
   "metadata": {},
   "outputs": [
    {
     "data": {
      "text/plain": [
       "0.72699"
      ]
     },
     "execution_count": 153,
     "metadata": {},
     "output_type": "execute_result"
    }
   ],
   "source": [
    "(weekly_demand < 17).mean()"
   ]
  },
  {
   "cell_type": "code",
   "execution_count": 54,
   "metadata": {},
   "outputs": [],
   "source": [
    "# Trying to use list comprehension, but getting errors regarding the result being ambiguous. I think that's because of the nature of np arrays... I'm trying to iterate through an iteration == incorrect syntax.\n",
    "\n",
    "# negatives = []\n",
    "\n",
    "# for x in numbers:\n",
    "#     if x < 0:\n",
    "#         negatives += 1\n",
    "\n",
    "# negative_nums = [n for n in numbers if n < 0]\n",
    "    "
   ]
  },
  {
   "cell_type": "markdown",
   "metadata": {},
   "source": [
    "### 5. Compare Heights\n",
    "\n",
    "- Men have an average height of 178 cm and standard deviation of 8cm.\n",
    "- Women have a mean of 170, sd = 6cm.\n",
    "- If a man and woman are chosen at random, P(woman taller than man)?"
   ]
  },
  {
   "cell_type": "code",
   "execution_count": 58,
   "metadata": {},
   "outputs": [],
   "source": [
    "# First, setup my random normal distributions. The question asks for two different distributions.\n",
    "\n",
    "man_height = np.random.normal(178, 8, size = 10000)\n",
    "woman_height = np.random.normal(170, 6, size = 10000)\n",
    "\n"
   ]
  },
  {
   "cell_type": "code",
   "execution_count": 59,
   "metadata": {},
   "outputs": [
    {
     "data": {
      "text/plain": [
       "array([181.17618618, 174.57230076, 181.08184378, ..., 190.23645622,\n",
       "       166.18554029, 170.88289967])"
      ]
     },
     "execution_count": 59,
     "metadata": {},
     "output_type": "execute_result"
    }
   ],
   "source": [
    "# This is what one of the the arrays looks like.\n",
    "\n",
    "man_height"
   ]
  },
  {
   "cell_type": "code",
   "execution_count": 62,
   "metadata": {},
   "outputs": [
    {
     "data": {
      "text/plain": [
       "array([False, False, False, ..., False,  True,  True])"
      ]
     },
     "execution_count": 62,
     "metadata": {},
     "output_type": "execute_result"
    }
   ],
   "source": [
    "# Now simply comparing the two arrays against each other gives me a boolean mask list...\n",
    "\n",
    "man_height < woman_height"
   ]
  },
  {
   "cell_type": "code",
   "execution_count": 64,
   "metadata": {},
   "outputs": [
    {
     "data": {
      "text/plain": [
       "0.2108"
      ]
     },
     "execution_count": 64,
     "metadata": {},
     "output_type": "execute_result"
    }
   ],
   "source": [
    "# And now I can simply use the same .mean() trick from earlier to only count the number of times the woman's height is higher than the man's, and then return that count divided by the total number of observations (rows) for an average chance.\n",
    "\n",
    "(man_height < woman_height).mean()\n",
    "\n",
    "# I definitely over-thought this one the first time through. Thanks for help on these..."
   ]
  },
  {
   "cell_type": "markdown",
   "metadata": {},
   "source": [
    "#### Ryan's Solutions:"
   ]
  },
  {
   "cell_type": "code",
   "execution_count": 162,
   "metadata": {},
   "outputs": [],
   "source": [
    "trials_height = 100_000\n",
    "m_heights = np.round(np.random.normal(178, 8, trials_height))\n",
    "f_heights = np.round(np.random.normal(170, 6, trials_height))"
   ]
  },
  {
   "cell_type": "code",
   "execution_count": 163,
   "metadata": {},
   "outputs": [
    {
     "data": {
      "text/plain": [
       "numpy.ndarray"
      ]
     },
     "execution_count": 163,
     "metadata": {},
     "output_type": "execute_result"
    }
   ],
   "source": [
    "type(f_heights)"
   ]
  },
  {
   "cell_type": "code",
   "execution_count": 164,
   "metadata": {},
   "outputs": [
    {
     "data": {
      "text/plain": [
       "array([False, False, False, ..., False, False,  True])"
      ]
     },
     "execution_count": 164,
     "metadata": {},
     "output_type": "execute_result"
    }
   ],
   "source": [
    "# Boolean Array\n",
    "(m_heights < f_heights)"
   ]
  },
  {
   "cell_type": "code",
   "execution_count": 167,
   "metadata": {},
   "outputs": [
    {
     "data": {
      "text/plain": [
       "0.19734"
      ]
     },
     "execution_count": 167,
     "metadata": {},
     "output_type": "execute_result"
    }
   ],
   "source": [
    "# Chances of the woman being taller than the man.\n",
    "\n",
    "(m_heights < f_heights).mean()"
   ]
  },
  {
   "cell_type": "code",
   "execution_count": 168,
   "metadata": {},
   "outputs": [
    {
     "data": {
      "text/plain": [
       "0.02917"
      ]
     },
     "execution_count": 168,
     "metadata": {},
     "output_type": "execute_result"
    }
   ],
   "source": [
    "# Finding the chance of the same height\n",
    "\n",
    "(m_heights == f_heights).mean()"
   ]
  },
  {
   "cell_type": "markdown",
   "metadata": {},
   "source": [
    "### 6. When installing anaconda on a student's computer, there's a 1 in 250 chance that the download is corrupted and the installation fails. What are the odds that after having 50 students download anaconda, no one has an installation issue? 100 students?"
   ]
  },
  {
   "cell_type": "code",
   "execution_count": 9,
   "metadata": {},
   "outputs": [
    {
     "data": {
      "text/plain": [
       "0.9961"
      ]
     },
     "execution_count": 9,
     "metadata": {},
     "output_type": "execute_result"
    }
   ],
   "source": [
    "# Using the same function/lambda combination.\n",
    "\n",
    "\n",
    "anaconda = []\n",
    "\n",
    "for x in range(0, 249):\n",
    "    anaconda.append(\"not_corrupted \" + str(x))\n",
    "    \n",
    "anaconda.append('Corrupted')\n",
    "\n",
    "def corrupt_counter(downloads):\n",
    "    count = 0\n",
    "    for i in downloads:\n",
    "        if i == 'Corrupted':\n",
    "            count +=1\n",
    "        return count\n",
    "\n",
    "n_sims6 = nrows = 10000\n",
    "n_downloads = ncols = 50\n",
    "\n",
    "installs = np.random.choice(anaconda, n_sims6 * n_downloads).reshape(nrows, ncols)\n",
    "\n",
    "installs_df = pd.DataFrame(installs)\n",
    "\n",
    "installs_df.apply(lambda x: corrupt_counter(x) == 0, axis = 1).mean()"
   ]
  },
  {
   "cell_type": "code",
   "execution_count": 10,
   "metadata": {},
   "outputs": [
    {
     "data": {
      "text/plain": [
       "0.9955"
      ]
     },
     "execution_count": 10,
     "metadata": {},
     "output_type": "execute_result"
    }
   ],
   "source": [
    "# After 100 students have had installs:\n",
    "\n",
    "anaconda100 = []\n",
    "\n",
    "for x in range(0, 249):\n",
    "    anaconda.append(\"not_corrupted \" + str(x))\n",
    "    \n",
    "anaconda.append('Corrupted')\n",
    "\n",
    "def corrupt_counter(downloads):\n",
    "    count = 0\n",
    "    for i in downloads:\n",
    "        if i == 'Corrupted':\n",
    "            count +=1\n",
    "        return count\n",
    "\n",
    "n_sims6 = nrows = 10000\n",
    "n_downloads = ncols = 100\n",
    "\n",
    "installs = np.random.choice(anaconda, n_sims6 * n_downloads).reshape(nrows, ncols)\n",
    "\n",
    "installs_df = pd.DataFrame(installs)\n",
    "\n",
    "installs_df.apply(lambda x: corrupt_counter(x) == 0, axis = 1).mean()"
   ]
  },
  {
   "cell_type": "code",
   "execution_count": 12,
   "metadata": {},
   "outputs": [
    {
     "data": {
      "text/plain": [
       "0.9966"
      ]
     },
     "execution_count": 12,
     "metadata": {},
     "output_type": "execute_result"
    }
   ],
   "source": [
    "# Chances for error within the first 150 student installs:\n",
    "\n",
    "anaconda150 = []\n",
    "\n",
    "for x in range(0, 249):\n",
    "    anaconda.append(\"not_corrupted \" + str(x))\n",
    "    \n",
    "anaconda.append('Corrupted')\n",
    "\n",
    "def corrupt_counter(downloads):\n",
    "    count = 0\n",
    "    for i in downloads:\n",
    "        if i == 'Corrupted':\n",
    "            count +=1\n",
    "        return count\n",
    "\n",
    "n_sims6 = nrows = 10000\n",
    "n_downloads = ncols = 150\n",
    "\n",
    "installs = np.random.choice(anaconda, n_sims6 * n_downloads).reshape(nrows, ncols)\n",
    "\n",
    "installs_df = pd.DataFrame(installs)\n",
    "\n",
    "installs_df.apply(lambda x: corrupt_counter(x) == 0, axis = 1).mean()"
   ]
  },
  {
   "cell_type": "code",
   "execution_count": 14,
   "metadata": {},
   "outputs": [
    {
     "data": {
      "text/plain": [
       "0.996"
      ]
     },
     "execution_count": 14,
     "metadata": {},
     "output_type": "execute_result"
    }
   ],
   "source": [
    "# How likely is it that 450 students all download anaconda without an issue?\n",
    "\n",
    "anaconda450 = []\n",
    "\n",
    "for x in range(0, 249):\n",
    "    anaconda.append(\"not_corrupted \" + str(x))\n",
    "    \n",
    "anaconda.append('Corrupted')\n",
    "\n",
    "def corrupt_counter(downloads):\n",
    "    count = 0\n",
    "    for i in downloads:\n",
    "        if i == 'Corrupted':\n",
    "            count +=1\n",
    "        return count\n",
    "\n",
    "n_sims6 = nrows = 10000\n",
    "n_downloads = ncols = 450\n",
    "\n",
    "installs = np.random.choice(anaconda, n_sims6 * n_downloads).reshape(nrows, ncols)\n",
    "\n",
    "installs_df = pd.DataFrame(installs)\n",
    "\n",
    "installs_df.apply(lambda x: corrupt_counter(x) == 0, axis = 1).mean()"
   ]
  },
  {
   "cell_type": "code",
   "execution_count": 38,
   "metadata": {},
   "outputs": [
    {
     "data": {
      "text/html": [
       "<div>\n",
       "<style scoped>\n",
       "    .dataframe tbody tr th:only-of-type {\n",
       "        vertical-align: middle;\n",
       "    }\n",
       "\n",
       "    .dataframe tbody tr th {\n",
       "        vertical-align: top;\n",
       "    }\n",
       "\n",
       "    .dataframe thead th {\n",
       "        text-align: right;\n",
       "    }\n",
       "</style>\n",
       "<table border=\"1\" class=\"dataframe\">\n",
       "  <thead>\n",
       "    <tr style=\"text-align: right;\">\n",
       "      <th></th>\n",
       "      <th>0</th>\n",
       "      <th>1</th>\n",
       "      <th>2</th>\n",
       "      <th>3</th>\n",
       "      <th>4</th>\n",
       "      <th>5</th>\n",
       "      <th>6</th>\n",
       "      <th>7</th>\n",
       "      <th>8</th>\n",
       "      <th>9</th>\n",
       "      <th>...</th>\n",
       "      <th>440</th>\n",
       "      <th>441</th>\n",
       "      <th>442</th>\n",
       "      <th>443</th>\n",
       "      <th>444</th>\n",
       "      <th>445</th>\n",
       "      <th>446</th>\n",
       "      <th>447</th>\n",
       "      <th>448</th>\n",
       "      <th>449</th>\n",
       "    </tr>\n",
       "  </thead>\n",
       "  <tbody>\n",
       "    <tr>\n",
       "      <th>0</th>\n",
       "      <td>not_corrupted 103</td>\n",
       "      <td>not_corrupted 147</td>\n",
       "      <td>not_corrupted 226</td>\n",
       "      <td>not_corrupted 65</td>\n",
       "      <td>not_corrupted 188</td>\n",
       "      <td>not_corrupted 246</td>\n",
       "      <td>not_corrupted 239</td>\n",
       "      <td>not_corrupted 139</td>\n",
       "      <td>not_corrupted 220</td>\n",
       "      <td>not_corrupted 230</td>\n",
       "      <td>...</td>\n",
       "      <td>not_corrupted 177</td>\n",
       "      <td>not_corrupted 50</td>\n",
       "      <td>not_corrupted 32</td>\n",
       "      <td>not_corrupted 172</td>\n",
       "      <td>not_corrupted 170</td>\n",
       "      <td>not_corrupted 85</td>\n",
       "      <td>not_corrupted 224</td>\n",
       "      <td>not_corrupted 114</td>\n",
       "      <td>not_corrupted 101</td>\n",
       "      <td>not_corrupted 48</td>\n",
       "    </tr>\n",
       "    <tr>\n",
       "      <th>1</th>\n",
       "      <td>not_corrupted 15</td>\n",
       "      <td>not_corrupted 177</td>\n",
       "      <td>not_corrupted 246</td>\n",
       "      <td>not_corrupted 44</td>\n",
       "      <td>not_corrupted 69</td>\n",
       "      <td>not_corrupted 118</td>\n",
       "      <td>not_corrupted 12</td>\n",
       "      <td>not_corrupted 14</td>\n",
       "      <td>not_corrupted 144</td>\n",
       "      <td>not_corrupted 44</td>\n",
       "      <td>...</td>\n",
       "      <td>not_corrupted 17</td>\n",
       "      <td>not_corrupted 15</td>\n",
       "      <td>not_corrupted 129</td>\n",
       "      <td>not_corrupted 232</td>\n",
       "      <td>not_corrupted 170</td>\n",
       "      <td>not_corrupted 88</td>\n",
       "      <td>not_corrupted 168</td>\n",
       "      <td>not_corrupted 158</td>\n",
       "      <td>not_corrupted 149</td>\n",
       "      <td>not_corrupted 103</td>\n",
       "    </tr>\n",
       "    <tr>\n",
       "      <th>2</th>\n",
       "      <td>not_corrupted 22</td>\n",
       "      <td>not_corrupted 89</td>\n",
       "      <td>not_corrupted 205</td>\n",
       "      <td>not_corrupted 50</td>\n",
       "      <td>not_corrupted 186</td>\n",
       "      <td>not_corrupted 32</td>\n",
       "      <td>not_corrupted 23</td>\n",
       "      <td>not_corrupted 211</td>\n",
       "      <td>not_corrupted 205</td>\n",
       "      <td>not_corrupted 57</td>\n",
       "      <td>...</td>\n",
       "      <td>not_corrupted 206</td>\n",
       "      <td>not_corrupted 226</td>\n",
       "      <td>not_corrupted 75</td>\n",
       "      <td>not_corrupted 106</td>\n",
       "      <td>not_corrupted 22</td>\n",
       "      <td>not_corrupted 167</td>\n",
       "      <td>not_corrupted 154</td>\n",
       "      <td>not_corrupted 127</td>\n",
       "      <td>not_corrupted 6</td>\n",
       "      <td>not_corrupted 94</td>\n",
       "    </tr>\n",
       "    <tr>\n",
       "      <th>3</th>\n",
       "      <td>not_corrupted 156</td>\n",
       "      <td>not_corrupted 241</td>\n",
       "      <td>not_corrupted 132</td>\n",
       "      <td>not_corrupted 211</td>\n",
       "      <td>not_corrupted 200</td>\n",
       "      <td>not_corrupted 245</td>\n",
       "      <td>not_corrupted 133</td>\n",
       "      <td>not_corrupted 189</td>\n",
       "      <td>not_corrupted 119</td>\n",
       "      <td>not_corrupted 151</td>\n",
       "      <td>...</td>\n",
       "      <td>not_corrupted 14</td>\n",
       "      <td>not_corrupted 129</td>\n",
       "      <td>not_corrupted 193</td>\n",
       "      <td>not_corrupted 247</td>\n",
       "      <td>not_corrupted 64</td>\n",
       "      <td>not_corrupted 135</td>\n",
       "      <td>not_corrupted 20</td>\n",
       "      <td>not_corrupted 186</td>\n",
       "      <td>not_corrupted 104</td>\n",
       "      <td>not_corrupted 128</td>\n",
       "    </tr>\n",
       "    <tr>\n",
       "      <th>4</th>\n",
       "      <td>not_corrupted 181</td>\n",
       "      <td>not_corrupted 5</td>\n",
       "      <td>not_corrupted 54</td>\n",
       "      <td>not_corrupted 111</td>\n",
       "      <td>not_corrupted 150</td>\n",
       "      <td>not_corrupted 36</td>\n",
       "      <td>not_corrupted 247</td>\n",
       "      <td>not_corrupted 108</td>\n",
       "      <td>not_corrupted 115</td>\n",
       "      <td>not_corrupted 63</td>\n",
       "      <td>...</td>\n",
       "      <td>not_corrupted 112</td>\n",
       "      <td>not_corrupted 132</td>\n",
       "      <td>not_corrupted 47</td>\n",
       "      <td>not_corrupted 47</td>\n",
       "      <td>not_corrupted 67</td>\n",
       "      <td>not_corrupted 221</td>\n",
       "      <td>not_corrupted 197</td>\n",
       "      <td>not_corrupted 17</td>\n",
       "      <td>not_corrupted 173</td>\n",
       "      <td>not_corrupted 185</td>\n",
       "    </tr>\n",
       "    <tr>\n",
       "      <th>...</th>\n",
       "      <td>...</td>\n",
       "      <td>...</td>\n",
       "      <td>...</td>\n",
       "      <td>...</td>\n",
       "      <td>...</td>\n",
       "      <td>...</td>\n",
       "      <td>...</td>\n",
       "      <td>...</td>\n",
       "      <td>...</td>\n",
       "      <td>...</td>\n",
       "      <td>...</td>\n",
       "      <td>...</td>\n",
       "      <td>...</td>\n",
       "      <td>...</td>\n",
       "      <td>...</td>\n",
       "      <td>...</td>\n",
       "      <td>...</td>\n",
       "      <td>...</td>\n",
       "      <td>...</td>\n",
       "      <td>...</td>\n",
       "      <td>...</td>\n",
       "    </tr>\n",
       "    <tr>\n",
       "      <th>9995</th>\n",
       "      <td>not_corrupted 222</td>\n",
       "      <td>not_corrupted 113</td>\n",
       "      <td>not_corrupted 105</td>\n",
       "      <td>not_corrupted 179</td>\n",
       "      <td>not_corrupted 178</td>\n",
       "      <td>not_corrupted 11</td>\n",
       "      <td>not_corrupted 242</td>\n",
       "      <td>not_corrupted 193</td>\n",
       "      <td>not_corrupted 64</td>\n",
       "      <td>not_corrupted 149</td>\n",
       "      <td>...</td>\n",
       "      <td>not_corrupted 127</td>\n",
       "      <td>not_corrupted 245</td>\n",
       "      <td>not_corrupted 112</td>\n",
       "      <td>not_corrupted 20</td>\n",
       "      <td>not_corrupted 41</td>\n",
       "      <td>not_corrupted 188</td>\n",
       "      <td>not_corrupted 131</td>\n",
       "      <td>not_corrupted 135</td>\n",
       "      <td>not_corrupted 228</td>\n",
       "      <td>not_corrupted 204</td>\n",
       "    </tr>\n",
       "    <tr>\n",
       "      <th>9996</th>\n",
       "      <td>not_corrupted 50</td>\n",
       "      <td>not_corrupted 232</td>\n",
       "      <td>not_corrupted 72</td>\n",
       "      <td>not_corrupted 50</td>\n",
       "      <td>not_corrupted 8</td>\n",
       "      <td>not_corrupted 227</td>\n",
       "      <td>not_corrupted 206</td>\n",
       "      <td>not_corrupted 183</td>\n",
       "      <td>not_corrupted 207</td>\n",
       "      <td>not_corrupted 164</td>\n",
       "      <td>...</td>\n",
       "      <td>not_corrupted 75</td>\n",
       "      <td>not_corrupted 106</td>\n",
       "      <td>not_corrupted 213</td>\n",
       "      <td>not_corrupted 217</td>\n",
       "      <td>not_corrupted 209</td>\n",
       "      <td>not_corrupted 240</td>\n",
       "      <td>not_corrupted 241</td>\n",
       "      <td>not_corrupted 105</td>\n",
       "      <td>not_corrupted 17</td>\n",
       "      <td>not_corrupted 90</td>\n",
       "    </tr>\n",
       "    <tr>\n",
       "      <th>9997</th>\n",
       "      <td>not_corrupted 102</td>\n",
       "      <td>not_corrupted 50</td>\n",
       "      <td>not_corrupted 22</td>\n",
       "      <td>not_corrupted 61</td>\n",
       "      <td>not_corrupted 62</td>\n",
       "      <td>not_corrupted 5</td>\n",
       "      <td>not_corrupted 156</td>\n",
       "      <td>not_corrupted 37</td>\n",
       "      <td>Corrupted</td>\n",
       "      <td>not_corrupted 160</td>\n",
       "      <td>...</td>\n",
       "      <td>not_corrupted 144</td>\n",
       "      <td>not_corrupted 120</td>\n",
       "      <td>not_corrupted 231</td>\n",
       "      <td>not_corrupted 90</td>\n",
       "      <td>not_corrupted 129</td>\n",
       "      <td>not_corrupted 17</td>\n",
       "      <td>not_corrupted 87</td>\n",
       "      <td>not_corrupted 132</td>\n",
       "      <td>not_corrupted 96</td>\n",
       "      <td>not_corrupted 38</td>\n",
       "    </tr>\n",
       "    <tr>\n",
       "      <th>9998</th>\n",
       "      <td>not_corrupted 192</td>\n",
       "      <td>not_corrupted 192</td>\n",
       "      <td>not_corrupted 12</td>\n",
       "      <td>not_corrupted 121</td>\n",
       "      <td>not_corrupted 184</td>\n",
       "      <td>not_corrupted 15</td>\n",
       "      <td>not_corrupted 246</td>\n",
       "      <td>not_corrupted 29</td>\n",
       "      <td>not_corrupted 160</td>\n",
       "      <td>not_corrupted 1</td>\n",
       "      <td>...</td>\n",
       "      <td>not_corrupted 16</td>\n",
       "      <td>not_corrupted 180</td>\n",
       "      <td>not_corrupted 67</td>\n",
       "      <td>not_corrupted 203</td>\n",
       "      <td>not_corrupted 22</td>\n",
       "      <td>not_corrupted 112</td>\n",
       "      <td>not_corrupted 119</td>\n",
       "      <td>not_corrupted 99</td>\n",
       "      <td>not_corrupted 129</td>\n",
       "      <td>not_corrupted 141</td>\n",
       "    </tr>\n",
       "    <tr>\n",
       "      <th>9999</th>\n",
       "      <td>not_corrupted 164</td>\n",
       "      <td>not_corrupted 240</td>\n",
       "      <td>not_corrupted 89</td>\n",
       "      <td>not_corrupted 165</td>\n",
       "      <td>not_corrupted 34</td>\n",
       "      <td>not_corrupted 170</td>\n",
       "      <td>not_corrupted 35</td>\n",
       "      <td>not_corrupted 84</td>\n",
       "      <td>not_corrupted 64</td>\n",
       "      <td>not_corrupted 131</td>\n",
       "      <td>...</td>\n",
       "      <td>not_corrupted 9</td>\n",
       "      <td>not_corrupted 212</td>\n",
       "      <td>not_corrupted 74</td>\n",
       "      <td>not_corrupted 71</td>\n",
       "      <td>not_corrupted 63</td>\n",
       "      <td>not_corrupted 193</td>\n",
       "      <td>not_corrupted 57</td>\n",
       "      <td>not_corrupted 72</td>\n",
       "      <td>not_corrupted 171</td>\n",
       "      <td>not_corrupted 4</td>\n",
       "    </tr>\n",
       "  </tbody>\n",
       "</table>\n",
       "<p>10000 rows × 450 columns</p>\n",
       "</div>"
      ],
      "text/plain": [
       "                    0                  1                  2    \\\n",
       "0     not_corrupted 103  not_corrupted 147  not_corrupted 226   \n",
       "1      not_corrupted 15  not_corrupted 177  not_corrupted 246   \n",
       "2      not_corrupted 22   not_corrupted 89  not_corrupted 205   \n",
       "3     not_corrupted 156  not_corrupted 241  not_corrupted 132   \n",
       "4     not_corrupted 181    not_corrupted 5   not_corrupted 54   \n",
       "...                 ...                ...                ...   \n",
       "9995  not_corrupted 222  not_corrupted 113  not_corrupted 105   \n",
       "9996   not_corrupted 50  not_corrupted 232   not_corrupted 72   \n",
       "9997  not_corrupted 102   not_corrupted 50   not_corrupted 22   \n",
       "9998  not_corrupted 192  not_corrupted 192   not_corrupted 12   \n",
       "9999  not_corrupted 164  not_corrupted 240   not_corrupted 89   \n",
       "\n",
       "                    3                  4                  5    \\\n",
       "0      not_corrupted 65  not_corrupted 188  not_corrupted 246   \n",
       "1      not_corrupted 44   not_corrupted 69  not_corrupted 118   \n",
       "2      not_corrupted 50  not_corrupted 186   not_corrupted 32   \n",
       "3     not_corrupted 211  not_corrupted 200  not_corrupted 245   \n",
       "4     not_corrupted 111  not_corrupted 150   not_corrupted 36   \n",
       "...                 ...                ...                ...   \n",
       "9995  not_corrupted 179  not_corrupted 178   not_corrupted 11   \n",
       "9996   not_corrupted 50    not_corrupted 8  not_corrupted 227   \n",
       "9997   not_corrupted 61   not_corrupted 62    not_corrupted 5   \n",
       "9998  not_corrupted 121  not_corrupted 184   not_corrupted 15   \n",
       "9999  not_corrupted 165   not_corrupted 34  not_corrupted 170   \n",
       "\n",
       "                    6                  7                  8    \\\n",
       "0     not_corrupted 239  not_corrupted 139  not_corrupted 220   \n",
       "1      not_corrupted 12   not_corrupted 14  not_corrupted 144   \n",
       "2      not_corrupted 23  not_corrupted 211  not_corrupted 205   \n",
       "3     not_corrupted 133  not_corrupted 189  not_corrupted 119   \n",
       "4     not_corrupted 247  not_corrupted 108  not_corrupted 115   \n",
       "...                 ...                ...                ...   \n",
       "9995  not_corrupted 242  not_corrupted 193   not_corrupted 64   \n",
       "9996  not_corrupted 206  not_corrupted 183  not_corrupted 207   \n",
       "9997  not_corrupted 156   not_corrupted 37          Corrupted   \n",
       "9998  not_corrupted 246   not_corrupted 29  not_corrupted 160   \n",
       "9999   not_corrupted 35   not_corrupted 84   not_corrupted 64   \n",
       "\n",
       "                    9    ...                440                441  \\\n",
       "0     not_corrupted 230  ...  not_corrupted 177   not_corrupted 50   \n",
       "1      not_corrupted 44  ...   not_corrupted 17   not_corrupted 15   \n",
       "2      not_corrupted 57  ...  not_corrupted 206  not_corrupted 226   \n",
       "3     not_corrupted 151  ...   not_corrupted 14  not_corrupted 129   \n",
       "4      not_corrupted 63  ...  not_corrupted 112  not_corrupted 132   \n",
       "...                 ...  ...                ...                ...   \n",
       "9995  not_corrupted 149  ...  not_corrupted 127  not_corrupted 245   \n",
       "9996  not_corrupted 164  ...   not_corrupted 75  not_corrupted 106   \n",
       "9997  not_corrupted 160  ...  not_corrupted 144  not_corrupted 120   \n",
       "9998    not_corrupted 1  ...   not_corrupted 16  not_corrupted 180   \n",
       "9999  not_corrupted 131  ...    not_corrupted 9  not_corrupted 212   \n",
       "\n",
       "                    442                443                444  \\\n",
       "0      not_corrupted 32  not_corrupted 172  not_corrupted 170   \n",
       "1     not_corrupted 129  not_corrupted 232  not_corrupted 170   \n",
       "2      not_corrupted 75  not_corrupted 106   not_corrupted 22   \n",
       "3     not_corrupted 193  not_corrupted 247   not_corrupted 64   \n",
       "4      not_corrupted 47   not_corrupted 47   not_corrupted 67   \n",
       "...                 ...                ...                ...   \n",
       "9995  not_corrupted 112   not_corrupted 20   not_corrupted 41   \n",
       "9996  not_corrupted 213  not_corrupted 217  not_corrupted 209   \n",
       "9997  not_corrupted 231   not_corrupted 90  not_corrupted 129   \n",
       "9998   not_corrupted 67  not_corrupted 203   not_corrupted 22   \n",
       "9999   not_corrupted 74   not_corrupted 71   not_corrupted 63   \n",
       "\n",
       "                    445                446                447  \\\n",
       "0      not_corrupted 85  not_corrupted 224  not_corrupted 114   \n",
       "1      not_corrupted 88  not_corrupted 168  not_corrupted 158   \n",
       "2     not_corrupted 167  not_corrupted 154  not_corrupted 127   \n",
       "3     not_corrupted 135   not_corrupted 20  not_corrupted 186   \n",
       "4     not_corrupted 221  not_corrupted 197   not_corrupted 17   \n",
       "...                 ...                ...                ...   \n",
       "9995  not_corrupted 188  not_corrupted 131  not_corrupted 135   \n",
       "9996  not_corrupted 240  not_corrupted 241  not_corrupted 105   \n",
       "9997   not_corrupted 17   not_corrupted 87  not_corrupted 132   \n",
       "9998  not_corrupted 112  not_corrupted 119   not_corrupted 99   \n",
       "9999  not_corrupted 193   not_corrupted 57   not_corrupted 72   \n",
       "\n",
       "                    448                449  \n",
       "0     not_corrupted 101   not_corrupted 48  \n",
       "1     not_corrupted 149  not_corrupted 103  \n",
       "2       not_corrupted 6   not_corrupted 94  \n",
       "3     not_corrupted 104  not_corrupted 128  \n",
       "4     not_corrupted 173  not_corrupted 185  \n",
       "...                 ...                ...  \n",
       "9995  not_corrupted 228  not_corrupted 204  \n",
       "9996   not_corrupted 17   not_corrupted 90  \n",
       "9997   not_corrupted 96   not_corrupted 38  \n",
       "9998  not_corrupted 129  not_corrupted 141  \n",
       "9999  not_corrupted 171    not_corrupted 4  \n",
       "\n",
       "[10000 rows x 450 columns]"
      ]
     },
     "execution_count": 38,
     "metadata": {},
     "output_type": "execute_result"
    }
   ],
   "source": [
    "installs_df"
   ]
  },
  {
   "cell_type": "markdown",
   "metadata": {},
   "source": [
    "#### Ryan's solutions:"
   ]
  },
  {
   "cell_type": "code",
   "execution_count": 170,
   "metadata": {},
   "outputs": [],
   "source": [
    "install_trial = 100_000"
   ]
  },
  {
   "cell_type": "code",
   "execution_count": 174,
   "metadata": {},
   "outputs": [],
   "source": [
    "students_per_trial = 50\n",
    "\n",
    "installs_test = np.random.choice([0, 1], size = (install_trial, students_per_trial), p = [1/250, 249/250])"
   ]
  },
  {
   "cell_type": "code",
   "execution_count": 176,
   "metadata": {},
   "outputs": [
    {
     "data": {
      "text/html": [
       "<div>\n",
       "<style scoped>\n",
       "    .dataframe tbody tr th:only-of-type {\n",
       "        vertical-align: middle;\n",
       "    }\n",
       "\n",
       "    .dataframe tbody tr th {\n",
       "        vertical-align: top;\n",
       "    }\n",
       "\n",
       "    .dataframe thead th {\n",
       "        text-align: right;\n",
       "    }\n",
       "</style>\n",
       "<table border=\"1\" class=\"dataframe\">\n",
       "  <thead>\n",
       "    <tr style=\"text-align: right;\">\n",
       "      <th></th>\n",
       "      <th>0</th>\n",
       "      <th>1</th>\n",
       "      <th>2</th>\n",
       "      <th>3</th>\n",
       "      <th>4</th>\n",
       "      <th>5</th>\n",
       "      <th>6</th>\n",
       "      <th>7</th>\n",
       "      <th>8</th>\n",
       "      <th>9</th>\n",
       "      <th>...</th>\n",
       "      <th>40</th>\n",
       "      <th>41</th>\n",
       "      <th>42</th>\n",
       "      <th>43</th>\n",
       "      <th>44</th>\n",
       "      <th>45</th>\n",
       "      <th>46</th>\n",
       "      <th>47</th>\n",
       "      <th>48</th>\n",
       "      <th>49</th>\n",
       "    </tr>\n",
       "  </thead>\n",
       "  <tbody>\n",
       "    <tr>\n",
       "      <th>0</th>\n",
       "      <td>1</td>\n",
       "      <td>1</td>\n",
       "      <td>1</td>\n",
       "      <td>1</td>\n",
       "      <td>1</td>\n",
       "      <td>1</td>\n",
       "      <td>1</td>\n",
       "      <td>1</td>\n",
       "      <td>1</td>\n",
       "      <td>1</td>\n",
       "      <td>...</td>\n",
       "      <td>1</td>\n",
       "      <td>1</td>\n",
       "      <td>1</td>\n",
       "      <td>1</td>\n",
       "      <td>1</td>\n",
       "      <td>1</td>\n",
       "      <td>1</td>\n",
       "      <td>1</td>\n",
       "      <td>1</td>\n",
       "      <td>1</td>\n",
       "    </tr>\n",
       "    <tr>\n",
       "      <th>1</th>\n",
       "      <td>1</td>\n",
       "      <td>1</td>\n",
       "      <td>1</td>\n",
       "      <td>1</td>\n",
       "      <td>1</td>\n",
       "      <td>1</td>\n",
       "      <td>1</td>\n",
       "      <td>1</td>\n",
       "      <td>1</td>\n",
       "      <td>1</td>\n",
       "      <td>...</td>\n",
       "      <td>1</td>\n",
       "      <td>1</td>\n",
       "      <td>1</td>\n",
       "      <td>1</td>\n",
       "      <td>1</td>\n",
       "      <td>1</td>\n",
       "      <td>1</td>\n",
       "      <td>1</td>\n",
       "      <td>1</td>\n",
       "      <td>1</td>\n",
       "    </tr>\n",
       "    <tr>\n",
       "      <th>2</th>\n",
       "      <td>1</td>\n",
       "      <td>1</td>\n",
       "      <td>1</td>\n",
       "      <td>1</td>\n",
       "      <td>1</td>\n",
       "      <td>1</td>\n",
       "      <td>1</td>\n",
       "      <td>1</td>\n",
       "      <td>1</td>\n",
       "      <td>1</td>\n",
       "      <td>...</td>\n",
       "      <td>1</td>\n",
       "      <td>1</td>\n",
       "      <td>1</td>\n",
       "      <td>1</td>\n",
       "      <td>1</td>\n",
       "      <td>1</td>\n",
       "      <td>1</td>\n",
       "      <td>1</td>\n",
       "      <td>1</td>\n",
       "      <td>1</td>\n",
       "    </tr>\n",
       "    <tr>\n",
       "      <th>3</th>\n",
       "      <td>1</td>\n",
       "      <td>1</td>\n",
       "      <td>1</td>\n",
       "      <td>1</td>\n",
       "      <td>1</td>\n",
       "      <td>1</td>\n",
       "      <td>1</td>\n",
       "      <td>1</td>\n",
       "      <td>1</td>\n",
       "      <td>1</td>\n",
       "      <td>...</td>\n",
       "      <td>1</td>\n",
       "      <td>1</td>\n",
       "      <td>1</td>\n",
       "      <td>1</td>\n",
       "      <td>1</td>\n",
       "      <td>1</td>\n",
       "      <td>1</td>\n",
       "      <td>1</td>\n",
       "      <td>1</td>\n",
       "      <td>1</td>\n",
       "    </tr>\n",
       "    <tr>\n",
       "      <th>4</th>\n",
       "      <td>1</td>\n",
       "      <td>1</td>\n",
       "      <td>1</td>\n",
       "      <td>1</td>\n",
       "      <td>1</td>\n",
       "      <td>1</td>\n",
       "      <td>1</td>\n",
       "      <td>1</td>\n",
       "      <td>1</td>\n",
       "      <td>1</td>\n",
       "      <td>...</td>\n",
       "      <td>1</td>\n",
       "      <td>1</td>\n",
       "      <td>1</td>\n",
       "      <td>1</td>\n",
       "      <td>1</td>\n",
       "      <td>1</td>\n",
       "      <td>1</td>\n",
       "      <td>1</td>\n",
       "      <td>1</td>\n",
       "      <td>1</td>\n",
       "    </tr>\n",
       "  </tbody>\n",
       "</table>\n",
       "<p>5 rows × 50 columns</p>\n",
       "</div>"
      ],
      "text/plain": [
       "   0   1   2   3   4   5   6   7   8   9   ...  40  41  42  43  44  45  46  \\\n",
       "0   1   1   1   1   1   1   1   1   1   1  ...   1   1   1   1   1   1   1   \n",
       "1   1   1   1   1   1   1   1   1   1   1  ...   1   1   1   1   1   1   1   \n",
       "2   1   1   1   1   1   1   1   1   1   1  ...   1   1   1   1   1   1   1   \n",
       "3   1   1   1   1   1   1   1   1   1   1  ...   1   1   1   1   1   1   1   \n",
       "4   1   1   1   1   1   1   1   1   1   1  ...   1   1   1   1   1   1   1   \n",
       "\n",
       "   47  48  49  \n",
       "0   1   1   1  \n",
       "1   1   1   1  \n",
       "2   1   1   1  \n",
       "3   1   1   1  \n",
       "4   1   1   1  \n",
       "\n",
       "[5 rows x 50 columns]"
      ]
     },
     "execution_count": 176,
     "metadata": {},
     "output_type": "execute_result"
    }
   ],
   "source": [
    "install_df = pd.DataFrame(installs_test)\n",
    "install_df.head()"
   ]
  },
  {
   "cell_type": "code",
   "execution_count": 178,
   "metadata": {},
   "outputs": [
    {
     "data": {
      "text/plain": [
       "0.81719"
      ]
     },
     "execution_count": 178,
     "metadata": {},
     "output_type": "execute_result"
    }
   ],
   "source": [
    "install_df[\"all_good\"] = install_df.sum(axis = 1) == students_per_trial\n",
    "\n",
    "# And the average:\n",
    "install_df.all_good.mean()"
   ]
  },
  {
   "cell_type": "code",
   "execution_count": 179,
   "metadata": {},
   "outputs": [],
   "source": [
    "# Then repeat for all the other scenarios."
   ]
  },
  {
   "cell_type": "markdown",
   "metadata": {},
   "source": [
    "### 7. There's a 70% chance on any given day that there will be at least one food truck at Travis Park. However, you haven't seen a food truck there in 3 days. How unlikely is this?"
   ]
  },
  {
   "cell_type": "code",
   "execution_count": 21,
   "metadata": {},
   "outputs": [
    {
     "data": {
      "text/plain": [
       "0.6911"
      ]
     },
     "execution_count": 21,
     "metadata": {},
     "output_type": "execute_result"
    }
   ],
   "source": [
    "# This isn't the answer, but working out the syntax of the code.\n",
    "\n",
    "probs = [.70, .30]\n",
    "\n",
    "truck_chance = np.random.choice([\"Present\", \"Away\"], size = 10000, p = probs)\n",
    "(truck_chance == \"Present\").mean()"
   ]
  },
  {
   "cell_type": "code",
   "execution_count": 37,
   "metadata": {},
   "outputs": [
    {
     "data": {
      "text/plain": [
       "0.02711"
      ]
     },
     "execution_count": 37,
     "metadata": {},
     "output_type": "execute_result"
    }
   ],
   "source": [
    "# Now I need to add in the chance that it hasn't shown up after 3 days out of 5...\n",
    "# The above isn't right because I'm only finding the chance that the truck shows up on a given day, and not taking into account how many days are in the workweek. So need to retool.\n",
    "\n",
    "present_chance = .7\n",
    "days = ncols = 3\n",
    "n_sim_rows = nrows = 10**5\n",
    "\n",
    "# Ok, I had another student help me figure this part out. I couldn't get the random() to work until I added the extra set of parentheses. Why does that work? It hides the rows/columns and returns it as one argument for random()?\n",
    "\n",
    "data_array = np.random.random((nrows, ncols))\n",
    "appear_chance = data_array < present_chance\n",
    "(appear_chance.sum(axis=1) == 0).mean()"
   ]
  },
  {
   "cell_type": "code",
   "execution_count": 30,
   "metadata": {},
   "outputs": [
    {
     "data": {
      "text/plain": [
       "array([[0.89545879, 0.44517927, 0.19479911, ..., 0.22387665, 0.640841  ,\n",
       "        0.27200044],\n",
       "       [0.44777153, 0.01636965, 0.48456296, ..., 0.39218093, 0.11616882,\n",
       "        0.3386555 ],\n",
       "       [0.88153652, 0.53691076, 0.88935779, ..., 0.17611713, 0.24766465,\n",
       "        0.04825953],\n",
       "       ...,\n",
       "       [0.67349743, 0.20167626, 0.74307501, ..., 0.05116797, 0.12640359,\n",
       "        0.68859245],\n",
       "       [0.03887204, 0.64069749, 0.8055885 , ..., 0.25820928, 0.95946585,\n",
       "        0.91766687],\n",
       "       [0.14059997, 0.53757202, 0.68445567, ..., 0.53696899, 0.88545506,\n",
       "        0.74508631]])"
      ]
     },
     "execution_count": 30,
     "metadata": {},
     "output_type": "execute_result"
    }
   ],
   "source": [
    "data_array"
   ]
  },
  {
   "cell_type": "markdown",
   "metadata": {},
   "source": [
    "#### Ryan's solution:"
   ]
  },
  {
   "cell_type": "code",
   "execution_count": 181,
   "metadata": {},
   "outputs": [],
   "source": [
    "trucks_check = np.random.choice([1, 0], size = (100_000, 3), p = [.7, .3])"
   ]
  },
  {
   "cell_type": "code",
   "execution_count": 185,
   "metadata": {},
   "outputs": [],
   "source": [
    "trucks_df_check = pd.DataFrame(trucks_check)\n",
    "trucks_df_check.columns = ['day_1', 'day_2', 'day_3']"
   ]
  },
  {
   "cell_type": "code",
   "execution_count": 190,
   "metadata": {},
   "outputs": [],
   "source": [
    "trucks_df_check[\"showed_up\"] = trucks_df_check.sum(axis = 1)"
   ]
  },
  {
   "cell_type": "code",
   "execution_count": 191,
   "metadata": {},
   "outputs": [
    {
     "data": {
      "text/html": [
       "<div>\n",
       "<style scoped>\n",
       "    .dataframe tbody tr th:only-of-type {\n",
       "        vertical-align: middle;\n",
       "    }\n",
       "\n",
       "    .dataframe tbody tr th {\n",
       "        vertical-align: top;\n",
       "    }\n",
       "\n",
       "    .dataframe thead th {\n",
       "        text-align: right;\n",
       "    }\n",
       "</style>\n",
       "<table border=\"1\" class=\"dataframe\">\n",
       "  <thead>\n",
       "    <tr style=\"text-align: right;\">\n",
       "      <th></th>\n",
       "      <th>day_1</th>\n",
       "      <th>day_2</th>\n",
       "      <th>day_3</th>\n",
       "      <th>showed_up</th>\n",
       "    </tr>\n",
       "  </thead>\n",
       "  <tbody>\n",
       "    <tr>\n",
       "      <th>0</th>\n",
       "      <td>1</td>\n",
       "      <td>1</td>\n",
       "      <td>0</td>\n",
       "      <td>2</td>\n",
       "    </tr>\n",
       "    <tr>\n",
       "      <th>1</th>\n",
       "      <td>0</td>\n",
       "      <td>0</td>\n",
       "      <td>0</td>\n",
       "      <td>0</td>\n",
       "    </tr>\n",
       "    <tr>\n",
       "      <th>2</th>\n",
       "      <td>1</td>\n",
       "      <td>1</td>\n",
       "      <td>1</td>\n",
       "      <td>3</td>\n",
       "    </tr>\n",
       "    <tr>\n",
       "      <th>3</th>\n",
       "      <td>1</td>\n",
       "      <td>1</td>\n",
       "      <td>1</td>\n",
       "      <td>3</td>\n",
       "    </tr>\n",
       "    <tr>\n",
       "      <th>4</th>\n",
       "      <td>0</td>\n",
       "      <td>1</td>\n",
       "      <td>0</td>\n",
       "      <td>1</td>\n",
       "    </tr>\n",
       "    <tr>\n",
       "      <th>...</th>\n",
       "      <td>...</td>\n",
       "      <td>...</td>\n",
       "      <td>...</td>\n",
       "      <td>...</td>\n",
       "    </tr>\n",
       "    <tr>\n",
       "      <th>99995</th>\n",
       "      <td>1</td>\n",
       "      <td>1</td>\n",
       "      <td>1</td>\n",
       "      <td>3</td>\n",
       "    </tr>\n",
       "    <tr>\n",
       "      <th>99996</th>\n",
       "      <td>0</td>\n",
       "      <td>1</td>\n",
       "      <td>1</td>\n",
       "      <td>2</td>\n",
       "    </tr>\n",
       "    <tr>\n",
       "      <th>99997</th>\n",
       "      <td>0</td>\n",
       "      <td>1</td>\n",
       "      <td>0</td>\n",
       "      <td>1</td>\n",
       "    </tr>\n",
       "    <tr>\n",
       "      <th>99998</th>\n",
       "      <td>1</td>\n",
       "      <td>1</td>\n",
       "      <td>1</td>\n",
       "      <td>3</td>\n",
       "    </tr>\n",
       "    <tr>\n",
       "      <th>99999</th>\n",
       "      <td>1</td>\n",
       "      <td>1</td>\n",
       "      <td>1</td>\n",
       "      <td>3</td>\n",
       "    </tr>\n",
       "  </tbody>\n",
       "</table>\n",
       "<p>100000 rows × 4 columns</p>\n",
       "</div>"
      ],
      "text/plain": [
       "       day_1  day_2  day_3  showed_up\n",
       "0          1      1      0          2\n",
       "1          0      0      0          0\n",
       "2          1      1      1          3\n",
       "3          1      1      1          3\n",
       "4          0      1      0          1\n",
       "...      ...    ...    ...        ...\n",
       "99995      1      1      1          3\n",
       "99996      0      1      1          2\n",
       "99997      0      1      0          1\n",
       "99998      1      1      1          3\n",
       "99999      1      1      1          3\n",
       "\n",
       "[100000 rows x 4 columns]"
      ]
     },
     "execution_count": 191,
     "metadata": {},
     "output_type": "execute_result"
    }
   ],
   "source": [
    "trucks_df_check"
   ]
  },
  {
   "cell_type": "code",
   "execution_count": 193,
   "metadata": {},
   "outputs": [
    {
     "data": {
      "text/plain": [
       "0.97195"
      ]
     },
     "execution_count": 193,
     "metadata": {},
     "output_type": "execute_result"
    }
   ],
   "source": [
    "(trucks_df_check.showed_up > 0).mean()"
   ]
  },
  {
   "cell_type": "code",
   "execution_count": null,
   "metadata": {},
   "outputs": [],
   "source": []
  },
  {
   "cell_type": "code",
   "execution_count": null,
   "metadata": {},
   "outputs": [],
   "source": []
  },
  {
   "cell_type": "code",
   "execution_count": null,
   "metadata": {},
   "outputs": [],
   "source": []
  },
  {
   "cell_type": "code",
   "execution_count": null,
   "metadata": {},
   "outputs": [],
   "source": []
  },
  {
   "cell_type": "code",
   "execution_count": null,
   "metadata": {},
   "outputs": [],
   "source": []
  },
  {
   "cell_type": "code",
   "execution_count": null,
   "metadata": {},
   "outputs": [],
   "source": []
  },
  {
   "cell_type": "markdown",
   "metadata": {},
   "source": [
    "### 8. If 23 people are in the same room, what are the odds that two of them share a birthday? What if it's 20 people? 40?"
   ]
  },
  {
   "cell_type": "code",
   "execution_count": 117,
   "metadata": {},
   "outputs": [
    {
     "data": {
      "text/plain": [
       "253.0"
      ]
     },
     "execution_count": 117,
     "metadata": {},
     "output_type": "execute_result"
    }
   ],
   "source": [
    "# First, I'm going through the math so I understand the fundamentals of the problem.\n",
    "\n",
    "# Number of people in the room:\n",
    "total_people = 23\n",
    "# Minimum number of people's bdays that have to match:\n",
    "min_match = 2\n",
    "\n",
    "# formula should be: (n * (n - 1)) / 2\n",
    "\n",
    "possible_matches = (total_people * (total_people - 1)) / min_match\n",
    "\n",
    "possible_matches"
   ]
  },
  {
   "cell_type": "code",
   "execution_count": 137,
   "metadata": {},
   "outputs": [
    {
     "name": "stdout",
     "output_type": "stream",
     "text": [
      "The percent chance of at least 2 people sharing a birthday in a room of 23 people is: 49.95%\n"
     ]
    }
   ],
   "source": [
    "# Here is theoretical math I used to prove to myself that the birthday paradox was true:\n",
    "birthday_paradox = round((364/365)**253, 4)\n",
    "\n",
    "print(f'The percent chance of at least 2 people sharing a birthday in a room of 23 people is: {birthday_paradox:.2%}')"
   ]
  },
  {
   "cell_type": "code",
   "execution_count": 119,
   "metadata": {},
   "outputs": [
    {
     "data": {
      "text/plain": [
       "[]"
      ]
     },
     "execution_count": 119,
     "metadata": {},
     "output_type": "execute_result"
    }
   ],
   "source": [
    "# Initializing the birthdays that the function will iterate through...\n",
    "\n",
    "birthdays = []\n",
    "\n",
    "birthdays"
   ]
  },
  {
   "cell_type": "code",
   "execution_count": 120,
   "metadata": {},
   "outputs": [],
   "source": [
    "for x in range(0, 365):\n",
    "    birthdays.append('day ' + str(x))"
   ]
  },
  {
   "cell_type": "code",
   "execution_count": 99,
   "metadata": {},
   "outputs": [
    {
     "name": "stdout",
     "output_type": "stream",
     "text": [
      "How many people are in the room? 23\n"
     ]
    }
   ],
   "source": [
    "user_input_1st = int(input(\"How many people are in the room? \"))"
   ]
  },
  {
   "cell_type": "code",
   "execution_count": 206,
   "metadata": {},
   "outputs": [
    {
     "name": "stdout",
     "output_type": "stream",
     "text": [
      "The chance of at least two people sharing a birthday in a group of 23 people is 51.10%\n"
     ]
    }
   ],
   "source": [
    "# Defining the function:\n",
    "\n",
    "def bday_count(x):\n",
    "    if len(x) == len(set(x)):\n",
    "        return False\n",
    "    else:\n",
    "        return True\n",
    "\n",
    "# Using the same shape function to compare arrays:\n",
    "\n",
    "n_sims8 = nrows = 10000\n",
    "n_people = ncols = user_input_1st\n",
    "\n",
    "bdays_count = np.random.choice(birthdays, n_sims8 * n_people).reshape(nrows, ncols)\n",
    "\n",
    "bdays_df = pd.DataFrame(bdays_count)\n",
    "\n",
    "result = bdays_df.apply(lambda x: bday_count(x) == True, axis = 1).mean()\n",
    "\n",
    "print(f'The chance of at least two people sharing a birthday in a group of {n_people} people is {result:.2%}')"
   ]
  },
  {
   "cell_type": "code",
   "execution_count": 107,
   "metadata": {},
   "outputs": [
    {
     "name": "stdout",
     "output_type": "stream",
     "text": [
      "How many people are in the room? 20\n"
     ]
    }
   ],
   "source": [
    "user_input_2nd = int(input(\"How many people are in the room? \"))"
   ]
  },
  {
   "cell_type": "code",
   "execution_count": 207,
   "metadata": {},
   "outputs": [
    {
     "name": "stdout",
     "output_type": "stream",
     "text": [
      "The chance of at least two people sharing a birthday in a group of 20 people is 41.20%\n"
     ]
    }
   ],
   "source": [
    "# Defining the function in a group of 20 people:\n",
    "\n",
    "def bday_count(x):\n",
    "    if len(x) == len(set(x)):\n",
    "        return False\n",
    "    else:\n",
    "        return True\n",
    "\n",
    "# Using the same shape function to compare arrays:\n",
    "\n",
    "n_sims8 = nrows = 10000\n",
    "n_people = ncols = 20\n",
    "\n",
    "bdays_count = np.random.choice(birthdays, n_sims8 * n_people).reshape(nrows, ncols)\n",
    "\n",
    "bdays_df = pd.DataFrame(bdays_count)\n",
    "\n",
    "result = bdays_df.apply(lambda x: bday_count(x) == True, axis = 1).mean()\n",
    "\n",
    "print(f'The chance of at least two people sharing a birthday in a group of {n_people} people is {result:.2%}')"
   ]
  },
  {
   "cell_type": "code",
   "execution_count": 109,
   "metadata": {},
   "outputs": [
    {
     "name": "stdout",
     "output_type": "stream",
     "text": [
      "How many people are in the room? 40\n"
     ]
    }
   ],
   "source": [
    "user_input_3rd = int(input(\"How many people are in the room? \"))"
   ]
  },
  {
   "cell_type": "code",
   "execution_count": 208,
   "metadata": {},
   "outputs": [
    {
     "name": "stdout",
     "output_type": "stream",
     "text": [
      "The chance of at least two people sharing a birthday in a group of 40 people is 89.86%\n"
     ]
    }
   ],
   "source": [
    "# Defining the function in a group of 40 people:\n",
    "\n",
    "def bday_count(x):\n",
    "    if len(x) == len(set(x)):\n",
    "        return False\n",
    "    else:\n",
    "        return True\n",
    "\n",
    "# Using the same shape function to compare arrays:\n",
    "\n",
    "n_sims8 = nrows = 10000\n",
    "n_people = ncols = 40\n",
    "\n",
    "bdays_count = np.random.choice(birthdays, n_sims8 * n_people).reshape(nrows, ncols)\n",
    "\n",
    "bdays_df = pd.DataFrame(bdays_count)\n",
    "\n",
    "result = bdays_df.apply(lambda x: bday_count(x) == True, axis = 1).mean()\n",
    "\n",
    "print(f'The chance of at least two people sharing a birthday in a group of {n_people} people is {result:.2%}')"
   ]
  },
  {
   "cell_type": "code",
   "execution_count": null,
   "metadata": {},
   "outputs": [],
   "source": []
  },
  {
   "cell_type": "markdown",
   "metadata": {},
   "source": [
    "#### Ryan's solution:"
   ]
  },
  {
   "cell_type": "code",
   "execution_count": 194,
   "metadata": {},
   "outputs": [],
   "source": [
    "n_simulations = 100_000\n",
    "n_peeps = 23\n",
    "\n",
    "birthdays_array = np.random.choice(range(365), size = (n_simulations, n_peeps))"
   ]
  },
  {
   "cell_type": "code",
   "execution_count": 195,
   "metadata": {},
   "outputs": [
    {
     "data": {
      "text/plain": [
       "array([[ 36,   9, 176, ..., 148, 316, 216],\n",
       "       [125, 138, 165, ...,  24,  20,  90],\n",
       "       [184, 257,  37, ..., 178, 208, 231],\n",
       "       ...,\n",
       "       [ 16,  29, 296, ..., 298, 254, 172],\n",
       "       [ 68, 225, 193, ..., 182, 258,   0],\n",
       "       [ 45,  22, 317, ...,  10,  88, 281]])"
      ]
     },
     "execution_count": 195,
     "metadata": {},
     "output_type": "execute_result"
    }
   ],
   "source": [
    "birthdays_array"
   ]
  },
  {
   "cell_type": "code",
   "execution_count": 196,
   "metadata": {},
   "outputs": [],
   "source": [
    "num8_df = pd.DataFrame(birthdays_array)"
   ]
  },
  {
   "cell_type": "code",
   "execution_count": 197,
   "metadata": {},
   "outputs": [
    {
     "data": {
      "text/html": [
       "<div>\n",
       "<style scoped>\n",
       "    .dataframe tbody tr th:only-of-type {\n",
       "        vertical-align: middle;\n",
       "    }\n",
       "\n",
       "    .dataframe tbody tr th {\n",
       "        vertical-align: top;\n",
       "    }\n",
       "\n",
       "    .dataframe thead th {\n",
       "        text-align: right;\n",
       "    }\n",
       "</style>\n",
       "<table border=\"1\" class=\"dataframe\">\n",
       "  <thead>\n",
       "    <tr style=\"text-align: right;\">\n",
       "      <th></th>\n",
       "      <th>0</th>\n",
       "      <th>1</th>\n",
       "      <th>2</th>\n",
       "      <th>3</th>\n",
       "      <th>4</th>\n",
       "      <th>5</th>\n",
       "      <th>6</th>\n",
       "      <th>7</th>\n",
       "      <th>8</th>\n",
       "      <th>9</th>\n",
       "      <th>...</th>\n",
       "      <th>13</th>\n",
       "      <th>14</th>\n",
       "      <th>15</th>\n",
       "      <th>16</th>\n",
       "      <th>17</th>\n",
       "      <th>18</th>\n",
       "      <th>19</th>\n",
       "      <th>20</th>\n",
       "      <th>21</th>\n",
       "      <th>22</th>\n",
       "    </tr>\n",
       "  </thead>\n",
       "  <tbody>\n",
       "    <tr>\n",
       "      <th>0</th>\n",
       "      <td>36</td>\n",
       "      <td>9</td>\n",
       "      <td>176</td>\n",
       "      <td>178</td>\n",
       "      <td>24</td>\n",
       "      <td>124</td>\n",
       "      <td>279</td>\n",
       "      <td>33</td>\n",
       "      <td>241</td>\n",
       "      <td>157</td>\n",
       "      <td>...</td>\n",
       "      <td>115</td>\n",
       "      <td>108</td>\n",
       "      <td>235</td>\n",
       "      <td>204</td>\n",
       "      <td>345</td>\n",
       "      <td>144</td>\n",
       "      <td>155</td>\n",
       "      <td>148</td>\n",
       "      <td>316</td>\n",
       "      <td>216</td>\n",
       "    </tr>\n",
       "    <tr>\n",
       "      <th>1</th>\n",
       "      <td>125</td>\n",
       "      <td>138</td>\n",
       "      <td>165</td>\n",
       "      <td>323</td>\n",
       "      <td>78</td>\n",
       "      <td>73</td>\n",
       "      <td>218</td>\n",
       "      <td>114</td>\n",
       "      <td>343</td>\n",
       "      <td>298</td>\n",
       "      <td>...</td>\n",
       "      <td>356</td>\n",
       "      <td>354</td>\n",
       "      <td>260</td>\n",
       "      <td>128</td>\n",
       "      <td>57</td>\n",
       "      <td>315</td>\n",
       "      <td>134</td>\n",
       "      <td>24</td>\n",
       "      <td>20</td>\n",
       "      <td>90</td>\n",
       "    </tr>\n",
       "    <tr>\n",
       "      <th>2</th>\n",
       "      <td>184</td>\n",
       "      <td>257</td>\n",
       "      <td>37</td>\n",
       "      <td>93</td>\n",
       "      <td>243</td>\n",
       "      <td>343</td>\n",
       "      <td>35</td>\n",
       "      <td>214</td>\n",
       "      <td>243</td>\n",
       "      <td>328</td>\n",
       "      <td>...</td>\n",
       "      <td>349</td>\n",
       "      <td>236</td>\n",
       "      <td>75</td>\n",
       "      <td>166</td>\n",
       "      <td>272</td>\n",
       "      <td>151</td>\n",
       "      <td>176</td>\n",
       "      <td>178</td>\n",
       "      <td>208</td>\n",
       "      <td>231</td>\n",
       "    </tr>\n",
       "    <tr>\n",
       "      <th>3</th>\n",
       "      <td>10</td>\n",
       "      <td>171</td>\n",
       "      <td>279</td>\n",
       "      <td>8</td>\n",
       "      <td>332</td>\n",
       "      <td>215</td>\n",
       "      <td>341</td>\n",
       "      <td>131</td>\n",
       "      <td>88</td>\n",
       "      <td>41</td>\n",
       "      <td>...</td>\n",
       "      <td>234</td>\n",
       "      <td>20</td>\n",
       "      <td>360</td>\n",
       "      <td>343</td>\n",
       "      <td>311</td>\n",
       "      <td>163</td>\n",
       "      <td>327</td>\n",
       "      <td>264</td>\n",
       "      <td>130</td>\n",
       "      <td>173</td>\n",
       "    </tr>\n",
       "    <tr>\n",
       "      <th>4</th>\n",
       "      <td>296</td>\n",
       "      <td>18</td>\n",
       "      <td>256</td>\n",
       "      <td>338</td>\n",
       "      <td>37</td>\n",
       "      <td>339</td>\n",
       "      <td>310</td>\n",
       "      <td>262</td>\n",
       "      <td>137</td>\n",
       "      <td>18</td>\n",
       "      <td>...</td>\n",
       "      <td>193</td>\n",
       "      <td>170</td>\n",
       "      <td>36</td>\n",
       "      <td>182</td>\n",
       "      <td>148</td>\n",
       "      <td>358</td>\n",
       "      <td>155</td>\n",
       "      <td>218</td>\n",
       "      <td>8</td>\n",
       "      <td>248</td>\n",
       "    </tr>\n",
       "    <tr>\n",
       "      <th>...</th>\n",
       "      <td>...</td>\n",
       "      <td>...</td>\n",
       "      <td>...</td>\n",
       "      <td>...</td>\n",
       "      <td>...</td>\n",
       "      <td>...</td>\n",
       "      <td>...</td>\n",
       "      <td>...</td>\n",
       "      <td>...</td>\n",
       "      <td>...</td>\n",
       "      <td>...</td>\n",
       "      <td>...</td>\n",
       "      <td>...</td>\n",
       "      <td>...</td>\n",
       "      <td>...</td>\n",
       "      <td>...</td>\n",
       "      <td>...</td>\n",
       "      <td>...</td>\n",
       "      <td>...</td>\n",
       "      <td>...</td>\n",
       "      <td>...</td>\n",
       "    </tr>\n",
       "    <tr>\n",
       "      <th>99995</th>\n",
       "      <td>174</td>\n",
       "      <td>3</td>\n",
       "      <td>23</td>\n",
       "      <td>246</td>\n",
       "      <td>132</td>\n",
       "      <td>291</td>\n",
       "      <td>240</td>\n",
       "      <td>232</td>\n",
       "      <td>70</td>\n",
       "      <td>131</td>\n",
       "      <td>...</td>\n",
       "      <td>182</td>\n",
       "      <td>105</td>\n",
       "      <td>174</td>\n",
       "      <td>91</td>\n",
       "      <td>125</td>\n",
       "      <td>47</td>\n",
       "      <td>128</td>\n",
       "      <td>57</td>\n",
       "      <td>141</td>\n",
       "      <td>80</td>\n",
       "    </tr>\n",
       "    <tr>\n",
       "      <th>99996</th>\n",
       "      <td>308</td>\n",
       "      <td>4</td>\n",
       "      <td>303</td>\n",
       "      <td>171</td>\n",
       "      <td>83</td>\n",
       "      <td>354</td>\n",
       "      <td>212</td>\n",
       "      <td>341</td>\n",
       "      <td>47</td>\n",
       "      <td>105</td>\n",
       "      <td>...</td>\n",
       "      <td>82</td>\n",
       "      <td>17</td>\n",
       "      <td>209</td>\n",
       "      <td>231</td>\n",
       "      <td>117</td>\n",
       "      <td>166</td>\n",
       "      <td>211</td>\n",
       "      <td>206</td>\n",
       "      <td>240</td>\n",
       "      <td>49</td>\n",
       "    </tr>\n",
       "    <tr>\n",
       "      <th>99997</th>\n",
       "      <td>16</td>\n",
       "      <td>29</td>\n",
       "      <td>296</td>\n",
       "      <td>2</td>\n",
       "      <td>234</td>\n",
       "      <td>93</td>\n",
       "      <td>308</td>\n",
       "      <td>138</td>\n",
       "      <td>201</td>\n",
       "      <td>138</td>\n",
       "      <td>...</td>\n",
       "      <td>356</td>\n",
       "      <td>52</td>\n",
       "      <td>58</td>\n",
       "      <td>216</td>\n",
       "      <td>127</td>\n",
       "      <td>326</td>\n",
       "      <td>97</td>\n",
       "      <td>298</td>\n",
       "      <td>254</td>\n",
       "      <td>172</td>\n",
       "    </tr>\n",
       "    <tr>\n",
       "      <th>99998</th>\n",
       "      <td>68</td>\n",
       "      <td>225</td>\n",
       "      <td>193</td>\n",
       "      <td>278</td>\n",
       "      <td>26</td>\n",
       "      <td>87</td>\n",
       "      <td>38</td>\n",
       "      <td>315</td>\n",
       "      <td>328</td>\n",
       "      <td>215</td>\n",
       "      <td>...</td>\n",
       "      <td>43</td>\n",
       "      <td>325</td>\n",
       "      <td>250</td>\n",
       "      <td>175</td>\n",
       "      <td>319</td>\n",
       "      <td>167</td>\n",
       "      <td>155</td>\n",
       "      <td>182</td>\n",
       "      <td>258</td>\n",
       "      <td>0</td>\n",
       "    </tr>\n",
       "    <tr>\n",
       "      <th>99999</th>\n",
       "      <td>45</td>\n",
       "      <td>22</td>\n",
       "      <td>317</td>\n",
       "      <td>155</td>\n",
       "      <td>207</td>\n",
       "      <td>288</td>\n",
       "      <td>4</td>\n",
       "      <td>95</td>\n",
       "      <td>37</td>\n",
       "      <td>236</td>\n",
       "      <td>...</td>\n",
       "      <td>304</td>\n",
       "      <td>295</td>\n",
       "      <td>59</td>\n",
       "      <td>8</td>\n",
       "      <td>303</td>\n",
       "      <td>284</td>\n",
       "      <td>169</td>\n",
       "      <td>10</td>\n",
       "      <td>88</td>\n",
       "      <td>281</td>\n",
       "    </tr>\n",
       "  </tbody>\n",
       "</table>\n",
       "<p>100000 rows × 23 columns</p>\n",
       "</div>"
      ],
      "text/plain": [
       "        0    1    2    3    4    5    6    7    8    9   ...   13   14   15  \\\n",
       "0       36    9  176  178   24  124  279   33  241  157  ...  115  108  235   \n",
       "1      125  138  165  323   78   73  218  114  343  298  ...  356  354  260   \n",
       "2      184  257   37   93  243  343   35  214  243  328  ...  349  236   75   \n",
       "3       10  171  279    8  332  215  341  131   88   41  ...  234   20  360   \n",
       "4      296   18  256  338   37  339  310  262  137   18  ...  193  170   36   \n",
       "...    ...  ...  ...  ...  ...  ...  ...  ...  ...  ...  ...  ...  ...  ...   \n",
       "99995  174    3   23  246  132  291  240  232   70  131  ...  182  105  174   \n",
       "99996  308    4  303  171   83  354  212  341   47  105  ...   82   17  209   \n",
       "99997   16   29  296    2  234   93  308  138  201  138  ...  356   52   58   \n",
       "99998   68  225  193  278   26   87   38  315  328  215  ...   43  325  250   \n",
       "99999   45   22  317  155  207  288    4   95   37  236  ...  304  295   59   \n",
       "\n",
       "        16   17   18   19   20   21   22  \n",
       "0      204  345  144  155  148  316  216  \n",
       "1      128   57  315  134   24   20   90  \n",
       "2      166  272  151  176  178  208  231  \n",
       "3      343  311  163  327  264  130  173  \n",
       "4      182  148  358  155  218    8  248  \n",
       "...    ...  ...  ...  ...  ...  ...  ...  \n",
       "99995   91  125   47  128   57  141   80  \n",
       "99996  231  117  166  211  206  240   49  \n",
       "99997  216  127  326   97  298  254  172  \n",
       "99998  175  319  167  155  182  258    0  \n",
       "99999    8  303  284  169   10   88  281  \n",
       "\n",
       "[100000 rows x 23 columns]"
      ]
     },
     "execution_count": 197,
     "metadata": {},
     "output_type": "execute_result"
    }
   ],
   "source": [
    "num8_df"
   ]
  },
  {
   "cell_type": "code",
   "execution_count": 199,
   "metadata": {},
   "outputs": [
    {
     "data": {
      "text/html": [
       "<div>\n",
       "<style scoped>\n",
       "    .dataframe tbody tr th:only-of-type {\n",
       "        vertical-align: middle;\n",
       "    }\n",
       "\n",
       "    .dataframe tbody tr th {\n",
       "        vertical-align: top;\n",
       "    }\n",
       "\n",
       "    .dataframe thead th {\n",
       "        text-align: right;\n",
       "    }\n",
       "</style>\n",
       "<table border=\"1\" class=\"dataframe\">\n",
       "  <thead>\n",
       "    <tr style=\"text-align: right;\">\n",
       "      <th></th>\n",
       "      <th>0</th>\n",
       "      <th>1</th>\n",
       "      <th>2</th>\n",
       "      <th>3</th>\n",
       "      <th>4</th>\n",
       "      <th>5</th>\n",
       "      <th>6</th>\n",
       "      <th>7</th>\n",
       "      <th>8</th>\n",
       "      <th>9</th>\n",
       "      <th>...</th>\n",
       "      <th>14</th>\n",
       "      <th>15</th>\n",
       "      <th>16</th>\n",
       "      <th>17</th>\n",
       "      <th>18</th>\n",
       "      <th>19</th>\n",
       "      <th>20</th>\n",
       "      <th>21</th>\n",
       "      <th>22</th>\n",
       "      <th>n_unique</th>\n",
       "    </tr>\n",
       "  </thead>\n",
       "  <tbody>\n",
       "    <tr>\n",
       "      <th>0</th>\n",
       "      <td>36</td>\n",
       "      <td>9</td>\n",
       "      <td>176</td>\n",
       "      <td>178</td>\n",
       "      <td>24</td>\n",
       "      <td>124</td>\n",
       "      <td>279</td>\n",
       "      <td>33</td>\n",
       "      <td>241</td>\n",
       "      <td>157</td>\n",
       "      <td>...</td>\n",
       "      <td>108</td>\n",
       "      <td>235</td>\n",
       "      <td>204</td>\n",
       "      <td>345</td>\n",
       "      <td>144</td>\n",
       "      <td>155</td>\n",
       "      <td>148</td>\n",
       "      <td>316</td>\n",
       "      <td>216</td>\n",
       "      <td>24</td>\n",
       "    </tr>\n",
       "    <tr>\n",
       "      <th>1</th>\n",
       "      <td>125</td>\n",
       "      <td>138</td>\n",
       "      <td>165</td>\n",
       "      <td>323</td>\n",
       "      <td>78</td>\n",
       "      <td>73</td>\n",
       "      <td>218</td>\n",
       "      <td>114</td>\n",
       "      <td>343</td>\n",
       "      <td>298</td>\n",
       "      <td>...</td>\n",
       "      <td>354</td>\n",
       "      <td>260</td>\n",
       "      <td>128</td>\n",
       "      <td>57</td>\n",
       "      <td>315</td>\n",
       "      <td>134</td>\n",
       "      <td>24</td>\n",
       "      <td>20</td>\n",
       "      <td>90</td>\n",
       "      <td>24</td>\n",
       "    </tr>\n",
       "    <tr>\n",
       "      <th>2</th>\n",
       "      <td>184</td>\n",
       "      <td>257</td>\n",
       "      <td>37</td>\n",
       "      <td>93</td>\n",
       "      <td>243</td>\n",
       "      <td>343</td>\n",
       "      <td>35</td>\n",
       "      <td>214</td>\n",
       "      <td>243</td>\n",
       "      <td>328</td>\n",
       "      <td>...</td>\n",
       "      <td>236</td>\n",
       "      <td>75</td>\n",
       "      <td>166</td>\n",
       "      <td>272</td>\n",
       "      <td>151</td>\n",
       "      <td>176</td>\n",
       "      <td>178</td>\n",
       "      <td>208</td>\n",
       "      <td>231</td>\n",
       "      <td>23</td>\n",
       "    </tr>\n",
       "    <tr>\n",
       "      <th>3</th>\n",
       "      <td>10</td>\n",
       "      <td>171</td>\n",
       "      <td>279</td>\n",
       "      <td>8</td>\n",
       "      <td>332</td>\n",
       "      <td>215</td>\n",
       "      <td>341</td>\n",
       "      <td>131</td>\n",
       "      <td>88</td>\n",
       "      <td>41</td>\n",
       "      <td>...</td>\n",
       "      <td>20</td>\n",
       "      <td>360</td>\n",
       "      <td>343</td>\n",
       "      <td>311</td>\n",
       "      <td>163</td>\n",
       "      <td>327</td>\n",
       "      <td>264</td>\n",
       "      <td>130</td>\n",
       "      <td>173</td>\n",
       "      <td>24</td>\n",
       "    </tr>\n",
       "    <tr>\n",
       "      <th>4</th>\n",
       "      <td>296</td>\n",
       "      <td>18</td>\n",
       "      <td>256</td>\n",
       "      <td>338</td>\n",
       "      <td>37</td>\n",
       "      <td>339</td>\n",
       "      <td>310</td>\n",
       "      <td>262</td>\n",
       "      <td>137</td>\n",
       "      <td>18</td>\n",
       "      <td>...</td>\n",
       "      <td>170</td>\n",
       "      <td>36</td>\n",
       "      <td>182</td>\n",
       "      <td>148</td>\n",
       "      <td>358</td>\n",
       "      <td>155</td>\n",
       "      <td>218</td>\n",
       "      <td>8</td>\n",
       "      <td>248</td>\n",
       "      <td>23</td>\n",
       "    </tr>\n",
       "    <tr>\n",
       "      <th>...</th>\n",
       "      <td>...</td>\n",
       "      <td>...</td>\n",
       "      <td>...</td>\n",
       "      <td>...</td>\n",
       "      <td>...</td>\n",
       "      <td>...</td>\n",
       "      <td>...</td>\n",
       "      <td>...</td>\n",
       "      <td>...</td>\n",
       "      <td>...</td>\n",
       "      <td>...</td>\n",
       "      <td>...</td>\n",
       "      <td>...</td>\n",
       "      <td>...</td>\n",
       "      <td>...</td>\n",
       "      <td>...</td>\n",
       "      <td>...</td>\n",
       "      <td>...</td>\n",
       "      <td>...</td>\n",
       "      <td>...</td>\n",
       "      <td>...</td>\n",
       "    </tr>\n",
       "    <tr>\n",
       "      <th>99995</th>\n",
       "      <td>174</td>\n",
       "      <td>3</td>\n",
       "      <td>23</td>\n",
       "      <td>246</td>\n",
       "      <td>132</td>\n",
       "      <td>291</td>\n",
       "      <td>240</td>\n",
       "      <td>232</td>\n",
       "      <td>70</td>\n",
       "      <td>131</td>\n",
       "      <td>...</td>\n",
       "      <td>105</td>\n",
       "      <td>174</td>\n",
       "      <td>91</td>\n",
       "      <td>125</td>\n",
       "      <td>47</td>\n",
       "      <td>128</td>\n",
       "      <td>57</td>\n",
       "      <td>141</td>\n",
       "      <td>80</td>\n",
       "      <td>23</td>\n",
       "    </tr>\n",
       "    <tr>\n",
       "      <th>99996</th>\n",
       "      <td>308</td>\n",
       "      <td>4</td>\n",
       "      <td>303</td>\n",
       "      <td>171</td>\n",
       "      <td>83</td>\n",
       "      <td>354</td>\n",
       "      <td>212</td>\n",
       "      <td>341</td>\n",
       "      <td>47</td>\n",
       "      <td>105</td>\n",
       "      <td>...</td>\n",
       "      <td>17</td>\n",
       "      <td>209</td>\n",
       "      <td>231</td>\n",
       "      <td>117</td>\n",
       "      <td>166</td>\n",
       "      <td>211</td>\n",
       "      <td>206</td>\n",
       "      <td>240</td>\n",
       "      <td>49</td>\n",
       "      <td>24</td>\n",
       "    </tr>\n",
       "    <tr>\n",
       "      <th>99997</th>\n",
       "      <td>16</td>\n",
       "      <td>29</td>\n",
       "      <td>296</td>\n",
       "      <td>2</td>\n",
       "      <td>234</td>\n",
       "      <td>93</td>\n",
       "      <td>308</td>\n",
       "      <td>138</td>\n",
       "      <td>201</td>\n",
       "      <td>138</td>\n",
       "      <td>...</td>\n",
       "      <td>52</td>\n",
       "      <td>58</td>\n",
       "      <td>216</td>\n",
       "      <td>127</td>\n",
       "      <td>326</td>\n",
       "      <td>97</td>\n",
       "      <td>298</td>\n",
       "      <td>254</td>\n",
       "      <td>172</td>\n",
       "      <td>23</td>\n",
       "    </tr>\n",
       "    <tr>\n",
       "      <th>99998</th>\n",
       "      <td>68</td>\n",
       "      <td>225</td>\n",
       "      <td>193</td>\n",
       "      <td>278</td>\n",
       "      <td>26</td>\n",
       "      <td>87</td>\n",
       "      <td>38</td>\n",
       "      <td>315</td>\n",
       "      <td>328</td>\n",
       "      <td>215</td>\n",
       "      <td>...</td>\n",
       "      <td>325</td>\n",
       "      <td>250</td>\n",
       "      <td>175</td>\n",
       "      <td>319</td>\n",
       "      <td>167</td>\n",
       "      <td>155</td>\n",
       "      <td>182</td>\n",
       "      <td>258</td>\n",
       "      <td>0</td>\n",
       "      <td>23</td>\n",
       "    </tr>\n",
       "    <tr>\n",
       "      <th>99999</th>\n",
       "      <td>45</td>\n",
       "      <td>22</td>\n",
       "      <td>317</td>\n",
       "      <td>155</td>\n",
       "      <td>207</td>\n",
       "      <td>288</td>\n",
       "      <td>4</td>\n",
       "      <td>95</td>\n",
       "      <td>37</td>\n",
       "      <td>236</td>\n",
       "      <td>...</td>\n",
       "      <td>295</td>\n",
       "      <td>59</td>\n",
       "      <td>8</td>\n",
       "      <td>303</td>\n",
       "      <td>284</td>\n",
       "      <td>169</td>\n",
       "      <td>10</td>\n",
       "      <td>88</td>\n",
       "      <td>281</td>\n",
       "      <td>24</td>\n",
       "    </tr>\n",
       "  </tbody>\n",
       "</table>\n",
       "<p>100000 rows × 24 columns</p>\n",
       "</div>"
      ],
      "text/plain": [
       "         0    1    2    3    4    5    6    7    8    9  ...   14   15   16  \\\n",
       "0       36    9  176  178   24  124  279   33  241  157  ...  108  235  204   \n",
       "1      125  138  165  323   78   73  218  114  343  298  ...  354  260  128   \n",
       "2      184  257   37   93  243  343   35  214  243  328  ...  236   75  166   \n",
       "3       10  171  279    8  332  215  341  131   88   41  ...   20  360  343   \n",
       "4      296   18  256  338   37  339  310  262  137   18  ...  170   36  182   \n",
       "...    ...  ...  ...  ...  ...  ...  ...  ...  ...  ...  ...  ...  ...  ...   \n",
       "99995  174    3   23  246  132  291  240  232   70  131  ...  105  174   91   \n",
       "99996  308    4  303  171   83  354  212  341   47  105  ...   17  209  231   \n",
       "99997   16   29  296    2  234   93  308  138  201  138  ...   52   58  216   \n",
       "99998   68  225  193  278   26   87   38  315  328  215  ...  325  250  175   \n",
       "99999   45   22  317  155  207  288    4   95   37  236  ...  295   59    8   \n",
       "\n",
       "        17   18   19   20   21   22  n_unique  \n",
       "0      345  144  155  148  316  216        24  \n",
       "1       57  315  134   24   20   90        24  \n",
       "2      272  151  176  178  208  231        23  \n",
       "3      311  163  327  264  130  173        24  \n",
       "4      148  358  155  218    8  248        23  \n",
       "...    ...  ...  ...  ...  ...  ...       ...  \n",
       "99995  125   47  128   57  141   80        23  \n",
       "99996  117  166  211  206  240   49        24  \n",
       "99997  127  326   97  298  254  172        23  \n",
       "99998  319  167  155  182  258    0        23  \n",
       "99999  303  284  169   10   88  281        24  \n",
       "\n",
       "[100000 rows x 24 columns]"
      ]
     },
     "execution_count": 199,
     "metadata": {},
     "output_type": "execute_result"
    }
   ],
   "source": [
    "num8_df[\"n_unique\"] = num8_df.nunique(axis=1)\n",
    "num8_df"
   ]
  },
  {
   "cell_type": "code",
   "execution_count": 201,
   "metadata": {},
   "outputs": [
    {
     "data": {
      "text/plain": [
       "0.62772"
      ]
     },
     "execution_count": 201,
     "metadata": {},
     "output_type": "execute_result"
    }
   ],
   "source": [
    "(num8_df.n_unique != 23).mean()"
   ]
  },
  {
   "cell_type": "code",
   "execution_count": null,
   "metadata": {},
   "outputs": [],
   "source": []
  },
  {
   "cell_type": "code",
   "execution_count": null,
   "metadata": {},
   "outputs": [],
   "source": []
  },
  {
   "cell_type": "code",
   "execution_count": null,
   "metadata": {},
   "outputs": [],
   "source": []
  },
  {
   "cell_type": "code",
   "execution_count": null,
   "metadata": {},
   "outputs": [],
   "source": []
  },
  {
   "cell_type": "code",
   "execution_count": null,
   "metadata": {},
   "outputs": [],
   "source": []
  },
  {
   "cell_type": "code",
   "execution_count": null,
   "metadata": {},
   "outputs": [],
   "source": []
  },
  {
   "cell_type": "code",
   "execution_count": null,
   "metadata": {},
   "outputs": [],
   "source": []
  },
  {
   "cell_type": "code",
   "execution_count": null,
   "metadata": {},
   "outputs": [],
   "source": []
  },
  {
   "cell_type": "code",
   "execution_count": null,
   "metadata": {},
   "outputs": [],
   "source": []
  }
 ],
 "metadata": {
  "kernelspec": {
   "display_name": "Python 3",
   "language": "python",
   "name": "python3"
  },
  "language_info": {
   "codemirror_mode": {
    "name": "ipython",
    "version": 3
   },
   "file_extension": ".py",
   "mimetype": "text/x-python",
   "name": "python",
   "nbconvert_exporter": "python",
   "pygments_lexer": "ipython3",
   "version": "3.7.6"
  }
 },
 "nbformat": 4,
 "nbformat_minor": 4
}
