{
 "cells": [
  {
   "cell_type": "code",
   "execution_count": 3,
   "metadata": {},
   "outputs": [],
   "source": [
    "# CodeUp curriculum statistics exercises"
   ]
  },
  {
   "cell_type": "code",
   "execution_count": 4,
   "metadata": {},
   "outputs": [],
   "source": [
    "# On a side note, I'm extremely excited to be learning statistics and using python/numpy to help with it! This is so cool what we are learning."
   ]
  },
  {
   "cell_type": "code",
   "execution_count": 1,
   "metadata": {},
   "outputs": [],
   "source": [
    "# First step is importing the libraries I'll need to use:\n",
    "\n",
    "import pandas as pd\n",
    "import numpy as np\n",
    "import matplotlib.pyplot as plt\n",
    "import seaborn as sns\n",
    "\n",
    "# I may not need the charting functions right away, but I prefer to have all my imports at the top of my file, per best practices cited by codeup instructors."
   ]
  },
  {
   "cell_type": "code",
   "execution_count": 2,
   "metadata": {},
   "outputs": [],
   "source": [
    "# First, starting out with examples from the curriculum for purposes of better rention of topic."
   ]
  },
  {
   "cell_type": "code",
   "execution_count": 3,
   "metadata": {},
   "outputs": [],
   "source": [
    "np.random.seed(29)"
   ]
  },
  {
   "cell_type": "code",
   "execution_count": 27,
   "metadata": {},
   "outputs": [],
   "source": [
    "quartile_array = np.array([1, 2, 3, 4, 5, 6, 7, 8])"
   ]
  },
  {
   "cell_type": "code",
   "execution_count": 28,
   "metadata": {},
   "outputs": [
    {
     "data": {
      "text/plain": [
       "2.75"
      ]
     },
     "execution_count": 28,
     "metadata": {},
     "output_type": "execute_result"
    }
   ],
   "source": [
    "np.quantile(quartile_array, 0.25)"
   ]
  },
  {
   "cell_type": "code",
   "execution_count": 31,
   "metadata": {},
   "outputs": [],
   "source": [
    "# np.random.choice?"
   ]
  },
  {
   "cell_type": "code",
   "execution_count": 32,
   "metadata": {},
   "outputs": [
    {
     "data": {
      "text/plain": [
       "0.753"
      ]
     },
     "execution_count": 32,
     "metadata": {},
     "output_type": "execute_result"
    }
   ],
   "source": [
    "# Example of flipping an unfair coin 10,000 times. \"Unfair\" as in the definition set in my probabilities variable.\n",
    "\n",
    "probabilities = [.75, .25]\n",
    "flips = np.random.choice([\"Heads\", \"Tails\"], size = 10_000, p=probabilities)\n",
    "(flips == \"Heads\").mean()"
   ]
  },
  {
   "cell_type": "code",
   "execution_count": 38,
   "metadata": {},
   "outputs": [],
   "source": [
    "mean_num = 50\n",
    "std_dev_num = 25\n",
    "numbers = np.random.normal(mean_num, std_dev_num, size = 10000)\n",
    "numbers = pd.Series(numbers)\n"
   ]
  },
  {
   "cell_type": "code",
   "execution_count": 40,
   "metadata": {},
   "outputs": [
    {
     "data": {
      "text/plain": [
       "<bound method Series.mean of 0       47.100626\n",
       "1       49.127286\n",
       "2       20.553275\n",
       "3       58.104817\n",
       "4       48.670140\n",
       "          ...    \n",
       "9995    64.030836\n",
       "9996    57.717181\n",
       "9997    70.174863\n",
       "9998    72.704321\n",
       "9999    33.394554\n",
       "Length: 10000, dtype: float64>"
      ]
     },
     "execution_count": 40,
     "metadata": {},
     "output_type": "execute_result"
    }
   ],
   "source": [
    "numbers.mean"
   ]
  },
  {
   "cell_type": "code",
   "execution_count": 23,
   "metadata": {},
   "outputs": [],
   "source": [
    "# Now, on to the exercises for the Simulation lesson:"
   ]
  },
  {
   "cell_type": "markdown",
   "metadata": {},
   "source": [
    "### 1. How likely is it that you roll doubles when rolling two dice?"
   ]
  },
  {
   "cell_type": "code",
   "execution_count": 64,
   "metadata": {},
   "outputs": [],
   "source": [
    "# Setting up rolling the dice 10,000 times\n",
    "\n",
    "# First I need to create a place (a variable) to store my die rolls (per die, since ultimately that's what I'm trying to compare):\n",
    "\n",
    "die1 = np.random.choice([1, 2, 3, 4, 5, 6], size = 10_000)\n",
    "die2 = np.random.choice([1, 2, 3, 4, 5, 6], size = 10_000)"
   ]
  },
  {
   "cell_type": "code",
   "execution_count": 58,
   "metadata": {},
   "outputs": [],
   "source": [
    "# Now creating a boolean mask to return True or False depending on if the die rolls returns the same number.\n",
    "\n",
    "die1 == die2\n",
    "\n",
    "# And assigning that mask to a variable named doubles:\n",
    "doubles = die1 == die2"
   ]
  },
  {
   "cell_type": "code",
   "execution_count": 59,
   "metadata": {},
   "outputs": [
    {
     "data": {
      "text/plain": [
       "array([False, False, False, ..., False, False,  True])"
      ]
     },
     "execution_count": 59,
     "metadata": {},
     "output_type": "execute_result"
    }
   ],
   "source": [
    "# Nice little array I have of True/False observations.\n",
    "doubles"
   ]
  },
  {
   "cell_type": "code",
   "execution_count": 63,
   "metadata": {},
   "outputs": [
    {
     "name": "stdout",
     "output_type": "stream",
     "text": [
      "There is a 0.1612 chance of the dice roll returning the same numbers.\n"
     ]
    }
   ],
   "source": [
    "# Now find the sum / length, which is the average, ie, the CHANCE of the double number rolls:\n",
    "# The quick way to do this is to use the .mean() function.\n",
    "\n",
    "doubles.mean()\n",
    "\n",
    "print(f'There is a {doubles.mean()} chance of the dice roll returning the same numbers.')\n",
    "\n",
    "# Big thanks to Ryan for reminding me that since numpy uses arrays, I don't have to \"manually\" define a function that iterates through each observation. Numpy does that for me automatically. Cool!"
   ]
  },
  {
   "cell_type": "markdown",
   "metadata": {},
   "source": [
    "### If you flip 8 coins, what is the probability of getting exactly 3 heads? What is the probability of getting more than 3 heads?"
   ]
  },
  {
   "cell_type": "code",
   "execution_count": 13,
   "metadata": {},
   "outputs": [],
   "source": [
    "# So just like the prior problem, I need to setup variables to store the results for each coin I flip.\n",
    "# coin1, coin2, etc.\n",
    "# I'm only going to start with 100 coin tosses just to keep the numbers smaller for my understanding... then increase later.\n",
    "\n",
    "coin1 = np.random.choice([\"Heads\", \"Tails\"], size = 100)\n",
    "coin2 = np.random.choice([\"Heads\", \"Tails\"], size = 100)\n",
    "coin3 = np.random.choice([\"Heads\", \"Tails\"], size = 100)\n",
    "coin4 = np.random.choice([\"Heads\", \"Tails\"], size = 100)\n",
    "coin5 = np.random.choice([\"Heads\", \"Tails\"], size = 100)\n",
    "coin6 = np.random.choice([\"Heads\", \"Tails\"], size = 100)\n",
    "coin7 = np.random.choice([\"Heads\", \"Tails\"], size = 100)\n",
    "coin8 = np.random.choice([\"Heads\", \"Tails\"], size = 100)"
   ]
  },
  {
   "cell_type": "code",
   "execution_count": 14,
   "metadata": {},
   "outputs": [
    {
     "data": {
      "text/plain": [
       "array(['Heads', 'Tails', 'Heads', 'Heads', 'Tails', 'Heads', 'Tails',\n",
       "       'Heads', 'Heads', 'Heads', 'Tails', 'Heads', 'Tails', 'Heads',\n",
       "       'Heads', 'Heads', 'Tails', 'Heads', 'Heads', 'Heads', 'Heads',\n",
       "       'Tails', 'Tails', 'Tails', 'Heads', 'Heads', 'Tails', 'Heads',\n",
       "       'Tails', 'Tails', 'Tails', 'Heads', 'Tails', 'Tails', 'Tails',\n",
       "       'Tails', 'Tails', 'Heads', 'Heads', 'Tails', 'Tails', 'Heads',\n",
       "       'Heads', 'Heads', 'Heads', 'Heads', 'Tails', 'Tails', 'Heads',\n",
       "       'Tails', 'Heads', 'Heads', 'Tails', 'Tails', 'Tails', 'Heads',\n",
       "       'Tails', 'Tails', 'Tails', 'Tails', 'Tails', 'Tails', 'Tails',\n",
       "       'Heads', 'Tails', 'Heads', 'Tails', 'Heads', 'Heads', 'Heads',\n",
       "       'Tails', 'Tails', 'Tails', 'Tails', 'Tails', 'Tails', 'Tails',\n",
       "       'Tails', 'Heads', 'Tails', 'Heads', 'Heads', 'Tails', 'Heads',\n",
       "       'Heads', 'Tails', 'Heads', 'Tails', 'Tails', 'Tails', 'Tails',\n",
       "       'Tails', 'Heads', 'Heads', 'Tails', 'Heads', 'Tails', 'Tails',\n",
       "       'Heads', 'Tails'], dtype='<U5')"
      ]
     },
     "execution_count": 14,
     "metadata": {},
     "output_type": "execute_result"
    }
   ],
   "source": [
    "# Visualizing what one of the coin toss result arrays looks like:\n",
    "\n",
    "coin1"
   ]
  },
  {
   "cell_type": "code",
   "execution_count": 15,
   "metadata": {},
   "outputs": [
    {
     "data": {
      "text/plain": [
       "numpy.ndarray"
      ]
     },
     "execution_count": 15,
     "metadata": {},
     "output_type": "execute_result"
    }
   ],
   "source": [
    "# And for good measure confirming what the variable type is, which should be a numpy array:\n",
    "type(coin1)"
   ]
  },
  {
   "cell_type": "code",
   "execution_count": 16,
   "metadata": {},
   "outputs": [],
   "source": [
    "# Now, in plain English, what I am trying to do is figure out a ratio which tells me how many times there were a set of flips in which 3 or fewer coins were showing heads.\n",
    "# In other words, return True when 'Heads <= 3'\n",
    "\n",
    "\n",
    "# test1 = lambda()... this is close but I need a full function. All the methods I tried with only lambda didn't work..."
   ]
  },
  {
   "cell_type": "code",
   "execution_count": 17,
   "metadata": {},
   "outputs": [
    {
     "data": {
      "text/plain": [
       "True"
      ]
     },
     "execution_count": 17,
     "metadata": {},
     "output_type": "execute_result"
    }
   ],
   "source": [
    "coin1[0] == coin2[0]"
   ]
  },
  {
   "cell_type": "code",
   "execution_count": null,
   "metadata": {},
   "outputs": [],
   "source": [
    "# Thanks to fellow students, especially Sam on helping me through this one."
   ]
  },
  {
   "cell_type": "code",
   "execution_count": 94,
   "metadata": {},
   "outputs": [
    {
     "data": {
      "text/plain": [
       "0.2142"
      ]
     },
     "execution_count": 94,
     "metadata": {},
     "output_type": "execute_result"
    }
   ],
   "source": [
    "# If you flip 8 coins, what is the probability of getting exactly 3 heads? \n",
    "def heads_counter(coinflips):\n",
    "    count = 0\n",
    "    for result in coinflips:\n",
    "        if result == 'heads':\n",
    "            count += 1\n",
    "    return count\n",
    "n_sims = nrows = 10000\n",
    "n_coins = ncols = 8\n",
    "flips = np.random.choice(['heads', 'tails'], n_sims * n_coins).reshape(nrows, ncols)\n",
    "flips_df = pd.DataFrame(flips)\n",
    "flips_df.apply(lambda x: heads_counter(x) == 3, axis = 1).mean()\n",
    "\n",
    "# Interestingly, when adding .mean() to the end of this last lamba apply it only counts the Trues, or 1s, in the resulting function result, but still averages it over the entire count of the rows. Boolean Masks are very powerful."
   ]
  },
  {
   "cell_type": "code",
   "execution_count": 5,
   "metadata": {},
   "outputs": [
    {
     "data": {
      "text/plain": [
       "0.6385"
      ]
     },
     "execution_count": 5,
     "metadata": {},
     "output_type": "execute_result"
    }
   ],
   "source": [
    "# What is the probability of getting more than 3 heads?\n",
    "\n",
    "def heads_counter(coinflips):\n",
    "    count = 0\n",
    "    for result in coinflips:\n",
    "        if result == 'heads':\n",
    "            count += 1\n",
    "    return count\n",
    "n_sims = nrows = 10000\n",
    "n_coins = ncols = 8\n",
    "flips = np.random.choice(['heads', 'tails'], n_sims * n_coins).reshape(nrows, ncols)\n",
    "flips_df = pd.DataFrame(flips)\n",
    "flips_df.apply(lambda x: heads_counter(x) > 3, axis = 1).mean()"
   ]
  },
  {
   "cell_type": "markdown",
   "metadata": {},
   "source": [
    "#### 3. There are approximately 3 web development cohorts for every 1 data science cohort at Codeup. Assuming that Codeup randomly selects an alumni to put on a billboard, what are the odds that the two billboards I drive past both have data science students on them?"
   ]
  },
  {
   "cell_type": "code",
   "execution_count": 10,
   "metadata": {},
   "outputs": [
    {
     "data": {
      "text/plain": [
       "0.058"
      ]
     },
     "execution_count": 10,
     "metadata": {},
     "output_type": "execute_result"
    }
   ],
   "source": [
    "# Going to use the same function as before, since that seems to be working.\n",
    "\n",
    "def billboard(student):\n",
    "    count = 0\n",
    "    for result in student:\n",
    "        if result == 'ds':\n",
    "            count += 1\n",
    "    return count\n",
    "\n",
    "n_sims2 = nrows = 10_000\n",
    "n_students = ncols = 2\n",
    "\n",
    "billboards = np.random.choice(['web1', 'web2', 'web3', 'ds'], n_sims2 * n_students).reshape(nrows, ncols)\n",
    "billboards_df = pd.DataFrame(billboards)\n",
    "billboards_df.apply(lambda x: billboard(x) > 1, axis = 1).mean()\n",
    "\n",
    "# So, same concept as before, but this time the columns were only 2, since that's the number of \"outputs\" that we were trying to test on. Not 4, because we took care of that within the random choice function."
   ]
  },
  {
   "cell_type": "markdown",
   "metadata": {},
   "source": [
    "#### 4. Codeup students buy, on average, 3 poptart packages (+- 1.5) a day from the snack vending machine. If on monday the machine is restocked with 17 poptart packages, how likely is it that I will be able to buy some poptarts on Friday afternoon?"
   ]
  },
  {
   "cell_type": "code",
   "execution_count": 9,
   "metadata": {},
   "outputs": [],
   "source": [
    "# Key on this one, don't return negative numbers... So I have to establish a baseline somewhere along in the function.\n",
    "\n",
    "def pop_tarts(snack):\n",
    "    count_snack = 0\n",
    "    for x in snack:\n",
    "        if result > 0:\n",
    "            count_snack +=1\n",
    "        return count_snack"
   ]
  },
  {
   "cell_type": "code",
   "execution_count": 18,
   "metadata": {},
   "outputs": [],
   "source": [
    "n_sims3 = nrows = 10_000\n",
    "n_vending = ncols = 1"
   ]
  },
  {
   "cell_type": "code",
   "execution_count": null,
   "metadata": {},
   "outputs": [],
   "source": [
    "vending_machine = np.random.randn()"
   ]
  },
  {
   "cell_type": "code",
   "execution_count": 36,
   "metadata": {},
   "outputs": [
    {
     "data": {
      "text/plain": [
       "1.8374654406030504"
      ]
     },
     "execution_count": 36,
     "metadata": {},
     "output_type": "execute_result"
    }
   ],
   "source": [
    "np.random.normal(loc = 4, scale = 1)"
   ]
  },
  {
   "cell_type": "code",
   "execution_count": 37,
   "metadata": {},
   "outputs": [
    {
     "data": {
      "text/plain": [
       "-0.917495233200999"
      ]
     },
     "execution_count": 37,
     "metadata": {},
     "output_type": "execute_result"
    }
   ],
   "source": [
    "np.random.randn()"
   ]
  },
  {
   "cell_type": "code",
   "execution_count": null,
   "metadata": {},
   "outputs": [],
   "source": []
  },
  {
   "cell_type": "code",
   "execution_count": null,
   "metadata": {},
   "outputs": [],
   "source": []
  },
  {
   "cell_type": "code",
   "execution_count": null,
   "metadata": {},
   "outputs": [],
   "source": []
  },
  {
   "cell_type": "code",
   "execution_count": null,
   "metadata": {},
   "outputs": [],
   "source": []
  },
  {
   "cell_type": "code",
   "execution_count": null,
   "metadata": {},
   "outputs": [],
   "source": []
  },
  {
   "cell_type": "markdown",
   "metadata": {},
   "source": [
    "#### 6. When installing anaconda on a student's computer, there's a 1 in 250 chance that the download is corrupted and the installation fails. What are the odds that after having 50 students download anaconda, no one has an installation issue? 100 students?"
   ]
  },
  {
   "cell_type": "code",
   "execution_count": 47,
   "metadata": {},
   "outputs": [
    {
     "data": {
      "text/plain": [
       "0.9963"
      ]
     },
     "execution_count": 47,
     "metadata": {},
     "output_type": "execute_result"
    }
   ],
   "source": [
    "# Using the same function/lambda combination.\n",
    "\n",
    "\n",
    "anaconda = []\n",
    "\n",
    "for x in range(0, 249):\n",
    "    anaconda.append(\"not_corrupted \" + str(x))\n",
    "    \n",
    "anaconda.append('Corrupted')\n",
    "\n",
    "def corrupt_counter(downloads):\n",
    "    count = 0\n",
    "    for i in downloads:\n",
    "        if i == 'Corrupted':\n",
    "            count +=1\n",
    "        return count\n",
    "\n",
    "n_sims6 = nrows = 10000\n",
    "n_downloads = ncols = 50\n",
    "\n",
    "installs = np.random.choice(anaconda, n_sims6 * n_downloads).reshape(nrows, ncols)\n",
    "\n",
    "installs_df = pd.DataFrame(installs)\n",
    "\n",
    "installs_df.apply(lambda x: corrupt_counter(x) == 0, axis = 1).mean()"
   ]
  },
  {
   "cell_type": "code",
   "execution_count": 41,
   "metadata": {},
   "outputs": [
    {
     "data": {
      "text/html": [
       "<div>\n",
       "<style scoped>\n",
       "    .dataframe tbody tr th:only-of-type {\n",
       "        vertical-align: middle;\n",
       "    }\n",
       "\n",
       "    .dataframe tbody tr th {\n",
       "        vertical-align: top;\n",
       "    }\n",
       "\n",
       "    .dataframe thead th {\n",
       "        text-align: right;\n",
       "    }\n",
       "</style>\n",
       "<table border=\"1\" class=\"dataframe\">\n",
       "  <thead>\n",
       "    <tr style=\"text-align: right;\">\n",
       "      <th></th>\n",
       "      <th>0</th>\n",
       "      <th>1</th>\n",
       "      <th>2</th>\n",
       "      <th>3</th>\n",
       "      <th>4</th>\n",
       "      <th>5</th>\n",
       "      <th>6</th>\n",
       "      <th>7</th>\n",
       "      <th>8</th>\n",
       "      <th>9</th>\n",
       "      <th>...</th>\n",
       "      <th>40</th>\n",
       "      <th>41</th>\n",
       "      <th>42</th>\n",
       "      <th>43</th>\n",
       "      <th>44</th>\n",
       "      <th>45</th>\n",
       "      <th>46</th>\n",
       "      <th>47</th>\n",
       "      <th>48</th>\n",
       "      <th>49</th>\n",
       "    </tr>\n",
       "  </thead>\n",
       "  <tbody>\n",
       "    <tr>\n",
       "      <th>0</th>\n",
       "      <td>not_corrupted 121</td>\n",
       "      <td>not_corrupted 35</td>\n",
       "      <td>not_corrupted 206</td>\n",
       "      <td>not_corrupted 245</td>\n",
       "      <td>not_corrupted 51</td>\n",
       "      <td>not_corrupted 209</td>\n",
       "      <td>not_corrupted 74</td>\n",
       "      <td>not_corrupted 186</td>\n",
       "      <td>not_corrupted 115</td>\n",
       "      <td>not_corrupted 55</td>\n",
       "      <td>...</td>\n",
       "      <td>not_corrupted 12</td>\n",
       "      <td>not_corrupted 146</td>\n",
       "      <td>not_corrupted 4</td>\n",
       "      <td>not_corrupted 197</td>\n",
       "      <td>not_corrupted 6</td>\n",
       "      <td>not_corrupted 175</td>\n",
       "      <td>not_corrupted 12</td>\n",
       "      <td>not_corrupted 172</td>\n",
       "      <td>not_corrupted 49</td>\n",
       "      <td>not_corrupted 24</td>\n",
       "    </tr>\n",
       "    <tr>\n",
       "      <th>1</th>\n",
       "      <td>not_corrupted 36</td>\n",
       "      <td>not_corrupted 56</td>\n",
       "      <td>not_corrupted 5</td>\n",
       "      <td>not_corrupted 45</td>\n",
       "      <td>not_corrupted 244</td>\n",
       "      <td>not_corrupted 5</td>\n",
       "      <td>not_corrupted 82</td>\n",
       "      <td>not_corrupted 46</td>\n",
       "      <td>not_corrupted 144</td>\n",
       "      <td>not_corrupted 185</td>\n",
       "      <td>...</td>\n",
       "      <td>not_corrupted 1</td>\n",
       "      <td>not_corrupted 13</td>\n",
       "      <td>not_corrupted 216</td>\n",
       "      <td>not_corrupted 127</td>\n",
       "      <td>not_corrupted 242</td>\n",
       "      <td>not_corrupted 113</td>\n",
       "      <td>not_corrupted 172</td>\n",
       "      <td>not_corrupted 39</td>\n",
       "      <td>not_corrupted 77</td>\n",
       "      <td>not_corrupted 26</td>\n",
       "    </tr>\n",
       "    <tr>\n",
       "      <th>2</th>\n",
       "      <td>not_corrupted 124</td>\n",
       "      <td>not_corrupted 40</td>\n",
       "      <td>not_corrupted 235</td>\n",
       "      <td>not_corrupted 53</td>\n",
       "      <td>not_corrupted 49</td>\n",
       "      <td>not_corrupted 185</td>\n",
       "      <td>not_corrupted 219</td>\n",
       "      <td>not_corrupted 35</td>\n",
       "      <td>not_corrupted 3</td>\n",
       "      <td>not_corrupted 214</td>\n",
       "      <td>...</td>\n",
       "      <td>not_corrupted 218</td>\n",
       "      <td>not_corrupted 196</td>\n",
       "      <td>not_corrupted 56</td>\n",
       "      <td>not_corrupted 137</td>\n",
       "      <td>not_corrupted 141</td>\n",
       "      <td>not_corrupted 59</td>\n",
       "      <td>not_corrupted 209</td>\n",
       "      <td>not_corrupted 130</td>\n",
       "      <td>not_corrupted 30</td>\n",
       "      <td>not_corrupted 70</td>\n",
       "    </tr>\n",
       "    <tr>\n",
       "      <th>3</th>\n",
       "      <td>not_corrupted 184</td>\n",
       "      <td>not_corrupted 86</td>\n",
       "      <td>not_corrupted 50</td>\n",
       "      <td>not_corrupted 102</td>\n",
       "      <td>not_corrupted 65</td>\n",
       "      <td>not_corrupted 182</td>\n",
       "      <td>not_corrupted 156</td>\n",
       "      <td>not_corrupted 17</td>\n",
       "      <td>not_corrupted 26</td>\n",
       "      <td>not_corrupted 31</td>\n",
       "      <td>...</td>\n",
       "      <td>not_corrupted 198</td>\n",
       "      <td>not_corrupted 15</td>\n",
       "      <td>not_corrupted 92</td>\n",
       "      <td>not_corrupted 239</td>\n",
       "      <td>not_corrupted 93</td>\n",
       "      <td>not_corrupted 141</td>\n",
       "      <td>not_corrupted 71</td>\n",
       "      <td>not_corrupted 217</td>\n",
       "      <td>not_corrupted 46</td>\n",
       "      <td>not_corrupted 116</td>\n",
       "    </tr>\n",
       "    <tr>\n",
       "      <th>4</th>\n",
       "      <td>not_corrupted 41</td>\n",
       "      <td>not_corrupted 15</td>\n",
       "      <td>not_corrupted 133</td>\n",
       "      <td>not_corrupted 179</td>\n",
       "      <td>not_corrupted 230</td>\n",
       "      <td>not_corrupted 236</td>\n",
       "      <td>not_corrupted 88</td>\n",
       "      <td>not_corrupted 204</td>\n",
       "      <td>not_corrupted 150</td>\n",
       "      <td>not_corrupted 35</td>\n",
       "      <td>...</td>\n",
       "      <td>not_corrupted 72</td>\n",
       "      <td>not_corrupted 188</td>\n",
       "      <td>not_corrupted 202</td>\n",
       "      <td>not_corrupted 222</td>\n",
       "      <td>not_corrupted 196</td>\n",
       "      <td>not_corrupted 214</td>\n",
       "      <td>not_corrupted 151</td>\n",
       "      <td>not_corrupted 138</td>\n",
       "      <td>not_corrupted 21</td>\n",
       "      <td>not_corrupted 167</td>\n",
       "    </tr>\n",
       "    <tr>\n",
       "      <th>...</th>\n",
       "      <td>...</td>\n",
       "      <td>...</td>\n",
       "      <td>...</td>\n",
       "      <td>...</td>\n",
       "      <td>...</td>\n",
       "      <td>...</td>\n",
       "      <td>...</td>\n",
       "      <td>...</td>\n",
       "      <td>...</td>\n",
       "      <td>...</td>\n",
       "      <td>...</td>\n",
       "      <td>...</td>\n",
       "      <td>...</td>\n",
       "      <td>...</td>\n",
       "      <td>...</td>\n",
       "      <td>...</td>\n",
       "      <td>...</td>\n",
       "      <td>...</td>\n",
       "      <td>...</td>\n",
       "      <td>...</td>\n",
       "      <td>...</td>\n",
       "    </tr>\n",
       "    <tr>\n",
       "      <th>9995</th>\n",
       "      <td>not_corrupted 39</td>\n",
       "      <td>not_corrupted 201</td>\n",
       "      <td>not_corrupted 141</td>\n",
       "      <td>not_corrupted 60</td>\n",
       "      <td>not_corrupted 19</td>\n",
       "      <td>not_corrupted 130</td>\n",
       "      <td>not_corrupted 195</td>\n",
       "      <td>not_corrupted 25</td>\n",
       "      <td>not_corrupted 241</td>\n",
       "      <td>not_corrupted 148</td>\n",
       "      <td>...</td>\n",
       "      <td>not_corrupted 222</td>\n",
       "      <td>not_corrupted 95</td>\n",
       "      <td>not_corrupted 35</td>\n",
       "      <td>not_corrupted 69</td>\n",
       "      <td>not_corrupted 143</td>\n",
       "      <td>not_corrupted 7</td>\n",
       "      <td>not_corrupted 34</td>\n",
       "      <td>not_corrupted 238</td>\n",
       "      <td>not_corrupted 108</td>\n",
       "      <td>not_corrupted 203</td>\n",
       "    </tr>\n",
       "    <tr>\n",
       "      <th>9996</th>\n",
       "      <td>not_corrupted 114</td>\n",
       "      <td>not_corrupted 152</td>\n",
       "      <td>not_corrupted 218</td>\n",
       "      <td>not_corrupted 178</td>\n",
       "      <td>not_corrupted 153</td>\n",
       "      <td>not_corrupted 214</td>\n",
       "      <td>not_corrupted 87</td>\n",
       "      <td>not_corrupted 229</td>\n",
       "      <td>not_corrupted 243</td>\n",
       "      <td>not_corrupted 105</td>\n",
       "      <td>...</td>\n",
       "      <td>not_corrupted 64</td>\n",
       "      <td>not_corrupted 227</td>\n",
       "      <td>not_corrupted 43</td>\n",
       "      <td>not_corrupted 34</td>\n",
       "      <td>not_corrupted 175</td>\n",
       "      <td>not_corrupted 162</td>\n",
       "      <td>not_corrupted 149</td>\n",
       "      <td>not_corrupted 73</td>\n",
       "      <td>not_corrupted 122</td>\n",
       "      <td>not_corrupted 155</td>\n",
       "    </tr>\n",
       "    <tr>\n",
       "      <th>9997</th>\n",
       "      <td>not_corrupted 85</td>\n",
       "      <td>not_corrupted 46</td>\n",
       "      <td>not_corrupted 55</td>\n",
       "      <td>not_corrupted 65</td>\n",
       "      <td>not_corrupted 210</td>\n",
       "      <td>not_corrupted 137</td>\n",
       "      <td>not_corrupted 223</td>\n",
       "      <td>not_corrupted 80</td>\n",
       "      <td>not_corrupted 133</td>\n",
       "      <td>not_corrupted 93</td>\n",
       "      <td>...</td>\n",
       "      <td>not_corrupted 189</td>\n",
       "      <td>not_corrupted 196</td>\n",
       "      <td>not_corrupted 245</td>\n",
       "      <td>not_corrupted 82</td>\n",
       "      <td>not_corrupted 25</td>\n",
       "      <td>not_corrupted 68</td>\n",
       "      <td>not_corrupted 46</td>\n",
       "      <td>not_corrupted 206</td>\n",
       "      <td>not_corrupted 106</td>\n",
       "      <td>not_corrupted 106</td>\n",
       "    </tr>\n",
       "    <tr>\n",
       "      <th>9998</th>\n",
       "      <td>not_corrupted 245</td>\n",
       "      <td>not_corrupted 241</td>\n",
       "      <td>not_corrupted 149</td>\n",
       "      <td>not_corrupted 126</td>\n",
       "      <td>not_corrupted 159</td>\n",
       "      <td>not_corrupted 17</td>\n",
       "      <td>not_corrupted 137</td>\n",
       "      <td>not_corrupted 91</td>\n",
       "      <td>not_corrupted 197</td>\n",
       "      <td>not_corrupted 235</td>\n",
       "      <td>...</td>\n",
       "      <td>not_corrupted 38</td>\n",
       "      <td>not_corrupted 220</td>\n",
       "      <td>not_corrupted 184</td>\n",
       "      <td>not_corrupted 218</td>\n",
       "      <td>not_corrupted 198</td>\n",
       "      <td>not_corrupted 159</td>\n",
       "      <td>not_corrupted 53</td>\n",
       "      <td>not_corrupted 33</td>\n",
       "      <td>not_corrupted 144</td>\n",
       "      <td>not_corrupted 26</td>\n",
       "    </tr>\n",
       "    <tr>\n",
       "      <th>9999</th>\n",
       "      <td>not_corrupted 128</td>\n",
       "      <td>not_corrupted 85</td>\n",
       "      <td>not_corrupted 215</td>\n",
       "      <td>not_corrupted 100</td>\n",
       "      <td>not_corrupted 119</td>\n",
       "      <td>not_corrupted 231</td>\n",
       "      <td>not_corrupted 167</td>\n",
       "      <td>not_corrupted 115</td>\n",
       "      <td>not_corrupted 209</td>\n",
       "      <td>not_corrupted 31</td>\n",
       "      <td>...</td>\n",
       "      <td>not_corrupted 80</td>\n",
       "      <td>not_corrupted 126</td>\n",
       "      <td>not_corrupted 133</td>\n",
       "      <td>not_corrupted 26</td>\n",
       "      <td>not_corrupted 247</td>\n",
       "      <td>not_corrupted 93</td>\n",
       "      <td>not_corrupted 60</td>\n",
       "      <td>not_corrupted 124</td>\n",
       "      <td>not_corrupted 100</td>\n",
       "      <td>not_corrupted 83</td>\n",
       "    </tr>\n",
       "  </tbody>\n",
       "</table>\n",
       "<p>10000 rows × 50 columns</p>\n",
       "</div>"
      ],
      "text/plain": [
       "                     0                  1                  2   \\\n",
       "0     not_corrupted 121   not_corrupted 35  not_corrupted 206   \n",
       "1      not_corrupted 36   not_corrupted 56    not_corrupted 5   \n",
       "2     not_corrupted 124   not_corrupted 40  not_corrupted 235   \n",
       "3     not_corrupted 184   not_corrupted 86   not_corrupted 50   \n",
       "4      not_corrupted 41   not_corrupted 15  not_corrupted 133   \n",
       "...                 ...                ...                ...   \n",
       "9995   not_corrupted 39  not_corrupted 201  not_corrupted 141   \n",
       "9996  not_corrupted 114  not_corrupted 152  not_corrupted 218   \n",
       "9997   not_corrupted 85   not_corrupted 46   not_corrupted 55   \n",
       "9998  not_corrupted 245  not_corrupted 241  not_corrupted 149   \n",
       "9999  not_corrupted 128   not_corrupted 85  not_corrupted 215   \n",
       "\n",
       "                     3                  4                  5   \\\n",
       "0     not_corrupted 245   not_corrupted 51  not_corrupted 209   \n",
       "1      not_corrupted 45  not_corrupted 244    not_corrupted 5   \n",
       "2      not_corrupted 53   not_corrupted 49  not_corrupted 185   \n",
       "3     not_corrupted 102   not_corrupted 65  not_corrupted 182   \n",
       "4     not_corrupted 179  not_corrupted 230  not_corrupted 236   \n",
       "...                 ...                ...                ...   \n",
       "9995   not_corrupted 60   not_corrupted 19  not_corrupted 130   \n",
       "9996  not_corrupted 178  not_corrupted 153  not_corrupted 214   \n",
       "9997   not_corrupted 65  not_corrupted 210  not_corrupted 137   \n",
       "9998  not_corrupted 126  not_corrupted 159   not_corrupted 17   \n",
       "9999  not_corrupted 100  not_corrupted 119  not_corrupted 231   \n",
       "\n",
       "                     6                  7                  8   \\\n",
       "0      not_corrupted 74  not_corrupted 186  not_corrupted 115   \n",
       "1      not_corrupted 82   not_corrupted 46  not_corrupted 144   \n",
       "2     not_corrupted 219   not_corrupted 35    not_corrupted 3   \n",
       "3     not_corrupted 156   not_corrupted 17   not_corrupted 26   \n",
       "4      not_corrupted 88  not_corrupted 204  not_corrupted 150   \n",
       "...                 ...                ...                ...   \n",
       "9995  not_corrupted 195   not_corrupted 25  not_corrupted 241   \n",
       "9996   not_corrupted 87  not_corrupted 229  not_corrupted 243   \n",
       "9997  not_corrupted 223   not_corrupted 80  not_corrupted 133   \n",
       "9998  not_corrupted 137   not_corrupted 91  not_corrupted 197   \n",
       "9999  not_corrupted 167  not_corrupted 115  not_corrupted 209   \n",
       "\n",
       "                     9   ...                 40                 41  \\\n",
       "0      not_corrupted 55  ...   not_corrupted 12  not_corrupted 146   \n",
       "1     not_corrupted 185  ...    not_corrupted 1   not_corrupted 13   \n",
       "2     not_corrupted 214  ...  not_corrupted 218  not_corrupted 196   \n",
       "3      not_corrupted 31  ...  not_corrupted 198   not_corrupted 15   \n",
       "4      not_corrupted 35  ...   not_corrupted 72  not_corrupted 188   \n",
       "...                 ...  ...                ...                ...   \n",
       "9995  not_corrupted 148  ...  not_corrupted 222   not_corrupted 95   \n",
       "9996  not_corrupted 105  ...   not_corrupted 64  not_corrupted 227   \n",
       "9997   not_corrupted 93  ...  not_corrupted 189  not_corrupted 196   \n",
       "9998  not_corrupted 235  ...   not_corrupted 38  not_corrupted 220   \n",
       "9999   not_corrupted 31  ...   not_corrupted 80  not_corrupted 126   \n",
       "\n",
       "                     42                 43                 44  \\\n",
       "0       not_corrupted 4  not_corrupted 197    not_corrupted 6   \n",
       "1     not_corrupted 216  not_corrupted 127  not_corrupted 242   \n",
       "2      not_corrupted 56  not_corrupted 137  not_corrupted 141   \n",
       "3      not_corrupted 92  not_corrupted 239   not_corrupted 93   \n",
       "4     not_corrupted 202  not_corrupted 222  not_corrupted 196   \n",
       "...                 ...                ...                ...   \n",
       "9995   not_corrupted 35   not_corrupted 69  not_corrupted 143   \n",
       "9996   not_corrupted 43   not_corrupted 34  not_corrupted 175   \n",
       "9997  not_corrupted 245   not_corrupted 82   not_corrupted 25   \n",
       "9998  not_corrupted 184  not_corrupted 218  not_corrupted 198   \n",
       "9999  not_corrupted 133   not_corrupted 26  not_corrupted 247   \n",
       "\n",
       "                     45                 46                 47  \\\n",
       "0     not_corrupted 175   not_corrupted 12  not_corrupted 172   \n",
       "1     not_corrupted 113  not_corrupted 172   not_corrupted 39   \n",
       "2      not_corrupted 59  not_corrupted 209  not_corrupted 130   \n",
       "3     not_corrupted 141   not_corrupted 71  not_corrupted 217   \n",
       "4     not_corrupted 214  not_corrupted 151  not_corrupted 138   \n",
       "...                 ...                ...                ...   \n",
       "9995    not_corrupted 7   not_corrupted 34  not_corrupted 238   \n",
       "9996  not_corrupted 162  not_corrupted 149   not_corrupted 73   \n",
       "9997   not_corrupted 68   not_corrupted 46  not_corrupted 206   \n",
       "9998  not_corrupted 159   not_corrupted 53   not_corrupted 33   \n",
       "9999   not_corrupted 93   not_corrupted 60  not_corrupted 124   \n",
       "\n",
       "                     48                 49  \n",
       "0      not_corrupted 49   not_corrupted 24  \n",
       "1      not_corrupted 77   not_corrupted 26  \n",
       "2      not_corrupted 30   not_corrupted 70  \n",
       "3      not_corrupted 46  not_corrupted 116  \n",
       "4      not_corrupted 21  not_corrupted 167  \n",
       "...                 ...                ...  \n",
       "9995  not_corrupted 108  not_corrupted 203  \n",
       "9996  not_corrupted 122  not_corrupted 155  \n",
       "9997  not_corrupted 106  not_corrupted 106  \n",
       "9998  not_corrupted 144   not_corrupted 26  \n",
       "9999  not_corrupted 100   not_corrupted 83  \n",
       "\n",
       "[10000 rows x 50 columns]"
      ]
     },
     "execution_count": 41,
     "metadata": {},
     "output_type": "execute_result"
    }
   ],
   "source": [
    "installs_df"
   ]
  },
  {
   "cell_type": "code",
   "execution_count": null,
   "metadata": {},
   "outputs": [],
   "source": []
  },
  {
   "cell_type": "code",
   "execution_count": null,
   "metadata": {},
   "outputs": [],
   "source": []
  },
  {
   "cell_type": "code",
   "execution_count": null,
   "metadata": {},
   "outputs": [],
   "source": []
  },
  {
   "cell_type": "code",
   "execution_count": null,
   "metadata": {},
   "outputs": [],
   "source": []
  },
  {
   "cell_type": "code",
   "execution_count": null,
   "metadata": {},
   "outputs": [],
   "source": []
  },
  {
   "cell_type": "code",
   "execution_count": null,
   "metadata": {},
   "outputs": [],
   "source": []
  }
 ],
 "metadata": {
  "kernelspec": {
   "display_name": "Python 3",
   "language": "python",
   "name": "python3"
  },
  "language_info": {
   "codemirror_mode": {
    "name": "ipython",
    "version": 3
   },
   "file_extension": ".py",
   "mimetype": "text/x-python",
   "name": "python",
   "nbconvert_exporter": "python",
   "pygments_lexer": "ipython3",
   "version": "3.7.6"
  }
 },
 "nbformat": 4,
 "nbformat_minor": 4
}
